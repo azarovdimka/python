{
 "cells": [
  {
   "cell_type": "markdown",
   "metadata": {},
   "source": [
    "# Исследование объявлений о продаже квартир\n",
    "\n",
    "В вашем распоряжении данные сервиса Яндекс.Недвижимость — архив объявлений о продаже квартир в Санкт-Петербурге и соседних населённых пунктов за несколько лет. Нужно научиться определять рыночную стоимость объектов недвижимости. Ваша задача — установить параметры. Это позволит построить автоматизированную систему: она отследит аномалии и мошенническую деятельность. \n",
    "\n",
    "По каждой квартире на продажу доступны два вида данных. Первые вписаны пользователем, вторые — получены автоматически на основе картографических данных. Например, расстояние до центра, аэропорта, ближайшего парка и водоёма. "
   ]
  },
  {
   "cell_type": "markdown",
   "metadata": {},
   "source": [
    "### Шаг 1. Откройте файл с данными и изучите общую информацию. "
   ]
  },
  {
   "cell_type": "code",
   "execution_count": 1,
   "metadata": {},
   "outputs": [
    {
     "name": "stdout",
     "output_type": "stream",
     "text": [
      "<class 'pandas.core.frame.DataFrame'>\n",
      "RangeIndex: 23699 entries, 0 to 23698\n",
      "Data columns (total 22 columns):\n",
      " #   Column                Non-Null Count  Dtype  \n",
      "---  ------                --------------  -----  \n",
      " 0   total_images          23699 non-null  int64  \n",
      " 1   last_price            23699 non-null  float64\n",
      " 2   total_area            23699 non-null  float64\n",
      " 3   first_day_exposition  23699 non-null  object \n",
      " 4   rooms                 23699 non-null  int64  \n",
      " 5   ceiling_height        14504 non-null  float64\n",
      " 6   floors_total          23613 non-null  float64\n",
      " 7   living_area           21796 non-null  float64\n",
      " 8   floor                 23699 non-null  int64  \n",
      " 9   is_apartment          2775 non-null   object \n",
      " 10  studio                23699 non-null  bool   \n",
      " 11  open_plan             23699 non-null  bool   \n",
      " 12  kitchen_area          21421 non-null  float64\n",
      " 13  balcony               12180 non-null  float64\n",
      " 14  locality_name         23650 non-null  object \n",
      " 15  airports_nearest      18157 non-null  float64\n",
      " 16  cityCenters_nearest   18180 non-null  float64\n",
      " 17  parks_around3000      18181 non-null  float64\n",
      " 18  parks_nearest         8079 non-null   float64\n",
      " 19  ponds_around3000      18181 non-null  float64\n",
      " 20  ponds_nearest         9110 non-null   float64\n",
      " 21  days_exposition       20518 non-null  float64\n",
      "dtypes: bool(2), float64(14), int64(3), object(3)\n",
      "memory usage: 3.7+ MB\n"
     ]
    },
    {
     "data": {
      "text/html": [
       "<div>\n",
       "<style scoped>\n",
       "    .dataframe tbody tr th:only-of-type {\n",
       "        vertical-align: middle;\n",
       "    }\n",
       "\n",
       "    .dataframe tbody tr th {\n",
       "        vertical-align: top;\n",
       "    }\n",
       "\n",
       "    .dataframe thead th {\n",
       "        text-align: right;\n",
       "    }\n",
       "</style>\n",
       "<table border=\"1\" class=\"dataframe\">\n",
       "  <thead>\n",
       "    <tr style=\"text-align: right;\">\n",
       "      <th></th>\n",
       "      <th>total_images</th>\n",
       "      <th>last_price</th>\n",
       "      <th>total_area</th>\n",
       "      <th>rooms</th>\n",
       "      <th>ceiling_height</th>\n",
       "      <th>floors_total</th>\n",
       "      <th>living_area</th>\n",
       "      <th>floor</th>\n",
       "      <th>kitchen_area</th>\n",
       "      <th>balcony</th>\n",
       "      <th>airports_nearest</th>\n",
       "      <th>cityCenters_nearest</th>\n",
       "      <th>parks_around3000</th>\n",
       "      <th>parks_nearest</th>\n",
       "      <th>ponds_around3000</th>\n",
       "      <th>ponds_nearest</th>\n",
       "      <th>days_exposition</th>\n",
       "    </tr>\n",
       "  </thead>\n",
       "  <tbody>\n",
       "    <tr>\n",
       "      <th>count</th>\n",
       "      <td>23699.000000</td>\n",
       "      <td>2.369900e+04</td>\n",
       "      <td>23699.000000</td>\n",
       "      <td>23699.000000</td>\n",
       "      <td>14504.000000</td>\n",
       "      <td>23613.000000</td>\n",
       "      <td>21796.000000</td>\n",
       "      <td>23699.000000</td>\n",
       "      <td>21421.000000</td>\n",
       "      <td>12180.000000</td>\n",
       "      <td>18157.000000</td>\n",
       "      <td>18180.000000</td>\n",
       "      <td>18181.000000</td>\n",
       "      <td>8079.000000</td>\n",
       "      <td>18181.000000</td>\n",
       "      <td>9110.000000</td>\n",
       "      <td>20518.000000</td>\n",
       "    </tr>\n",
       "    <tr>\n",
       "      <th>mean</th>\n",
       "      <td>9.858475</td>\n",
       "      <td>6.541549e+06</td>\n",
       "      <td>60.348651</td>\n",
       "      <td>2.070636</td>\n",
       "      <td>2.771499</td>\n",
       "      <td>10.673824</td>\n",
       "      <td>34.457852</td>\n",
       "      <td>5.892358</td>\n",
       "      <td>10.569807</td>\n",
       "      <td>1.150082</td>\n",
       "      <td>28793.672193</td>\n",
       "      <td>14191.277833</td>\n",
       "      <td>0.611408</td>\n",
       "      <td>490.804555</td>\n",
       "      <td>0.770255</td>\n",
       "      <td>517.980900</td>\n",
       "      <td>180.888634</td>\n",
       "    </tr>\n",
       "    <tr>\n",
       "      <th>std</th>\n",
       "      <td>5.682529</td>\n",
       "      <td>1.088701e+07</td>\n",
       "      <td>35.654083</td>\n",
       "      <td>1.078405</td>\n",
       "      <td>1.261056</td>\n",
       "      <td>6.597173</td>\n",
       "      <td>22.030445</td>\n",
       "      <td>4.885249</td>\n",
       "      <td>5.905438</td>\n",
       "      <td>1.071300</td>\n",
       "      <td>12630.880622</td>\n",
       "      <td>8608.386210</td>\n",
       "      <td>0.802074</td>\n",
       "      <td>342.317995</td>\n",
       "      <td>0.938346</td>\n",
       "      <td>277.720643</td>\n",
       "      <td>219.727988</td>\n",
       "    </tr>\n",
       "    <tr>\n",
       "      <th>min</th>\n",
       "      <td>0.000000</td>\n",
       "      <td>1.219000e+04</td>\n",
       "      <td>12.000000</td>\n",
       "      <td>0.000000</td>\n",
       "      <td>1.000000</td>\n",
       "      <td>1.000000</td>\n",
       "      <td>2.000000</td>\n",
       "      <td>1.000000</td>\n",
       "      <td>1.300000</td>\n",
       "      <td>0.000000</td>\n",
       "      <td>0.000000</td>\n",
       "      <td>181.000000</td>\n",
       "      <td>0.000000</td>\n",
       "      <td>1.000000</td>\n",
       "      <td>0.000000</td>\n",
       "      <td>13.000000</td>\n",
       "      <td>1.000000</td>\n",
       "    </tr>\n",
       "    <tr>\n",
       "      <th>25%</th>\n",
       "      <td>6.000000</td>\n",
       "      <td>3.400000e+06</td>\n",
       "      <td>40.000000</td>\n",
       "      <td>1.000000</td>\n",
       "      <td>2.520000</td>\n",
       "      <td>5.000000</td>\n",
       "      <td>18.600000</td>\n",
       "      <td>2.000000</td>\n",
       "      <td>7.000000</td>\n",
       "      <td>0.000000</td>\n",
       "      <td>18585.000000</td>\n",
       "      <td>9238.000000</td>\n",
       "      <td>0.000000</td>\n",
       "      <td>288.000000</td>\n",
       "      <td>0.000000</td>\n",
       "      <td>294.000000</td>\n",
       "      <td>45.000000</td>\n",
       "    </tr>\n",
       "    <tr>\n",
       "      <th>50%</th>\n",
       "      <td>9.000000</td>\n",
       "      <td>4.650000e+06</td>\n",
       "      <td>52.000000</td>\n",
       "      <td>2.000000</td>\n",
       "      <td>2.650000</td>\n",
       "      <td>9.000000</td>\n",
       "      <td>30.000000</td>\n",
       "      <td>4.000000</td>\n",
       "      <td>9.100000</td>\n",
       "      <td>1.000000</td>\n",
       "      <td>26726.000000</td>\n",
       "      <td>13098.500000</td>\n",
       "      <td>0.000000</td>\n",
       "      <td>455.000000</td>\n",
       "      <td>1.000000</td>\n",
       "      <td>502.000000</td>\n",
       "      <td>95.000000</td>\n",
       "    </tr>\n",
       "    <tr>\n",
       "      <th>75%</th>\n",
       "      <td>14.000000</td>\n",
       "      <td>6.800000e+06</td>\n",
       "      <td>69.900000</td>\n",
       "      <td>3.000000</td>\n",
       "      <td>2.800000</td>\n",
       "      <td>16.000000</td>\n",
       "      <td>42.300000</td>\n",
       "      <td>8.000000</td>\n",
       "      <td>12.000000</td>\n",
       "      <td>2.000000</td>\n",
       "      <td>37273.000000</td>\n",
       "      <td>16293.000000</td>\n",
       "      <td>1.000000</td>\n",
       "      <td>612.000000</td>\n",
       "      <td>1.000000</td>\n",
       "      <td>729.000000</td>\n",
       "      <td>232.000000</td>\n",
       "    </tr>\n",
       "    <tr>\n",
       "      <th>max</th>\n",
       "      <td>50.000000</td>\n",
       "      <td>7.630000e+08</td>\n",
       "      <td>900.000000</td>\n",
       "      <td>19.000000</td>\n",
       "      <td>100.000000</td>\n",
       "      <td>60.000000</td>\n",
       "      <td>409.700000</td>\n",
       "      <td>33.000000</td>\n",
       "      <td>112.000000</td>\n",
       "      <td>5.000000</td>\n",
       "      <td>84869.000000</td>\n",
       "      <td>65968.000000</td>\n",
       "      <td>3.000000</td>\n",
       "      <td>3190.000000</td>\n",
       "      <td>3.000000</td>\n",
       "      <td>1344.000000</td>\n",
       "      <td>1580.000000</td>\n",
       "    </tr>\n",
       "  </tbody>\n",
       "</table>\n",
       "</div>"
      ],
      "text/plain": [
       "       total_images    last_price    total_area         rooms  ceiling_height  \\\n",
       "count  23699.000000  2.369900e+04  23699.000000  23699.000000    14504.000000   \n",
       "mean       9.858475  6.541549e+06     60.348651      2.070636        2.771499   \n",
       "std        5.682529  1.088701e+07     35.654083      1.078405        1.261056   \n",
       "min        0.000000  1.219000e+04     12.000000      0.000000        1.000000   \n",
       "25%        6.000000  3.400000e+06     40.000000      1.000000        2.520000   \n",
       "50%        9.000000  4.650000e+06     52.000000      2.000000        2.650000   \n",
       "75%       14.000000  6.800000e+06     69.900000      3.000000        2.800000   \n",
       "max       50.000000  7.630000e+08    900.000000     19.000000      100.000000   \n",
       "\n",
       "       floors_total   living_area         floor  kitchen_area       balcony  \\\n",
       "count  23613.000000  21796.000000  23699.000000  21421.000000  12180.000000   \n",
       "mean      10.673824     34.457852      5.892358     10.569807      1.150082   \n",
       "std        6.597173     22.030445      4.885249      5.905438      1.071300   \n",
       "min        1.000000      2.000000      1.000000      1.300000      0.000000   \n",
       "25%        5.000000     18.600000      2.000000      7.000000      0.000000   \n",
       "50%        9.000000     30.000000      4.000000      9.100000      1.000000   \n",
       "75%       16.000000     42.300000      8.000000     12.000000      2.000000   \n",
       "max       60.000000    409.700000     33.000000    112.000000      5.000000   \n",
       "\n",
       "       airports_nearest  cityCenters_nearest  parks_around3000  parks_nearest  \\\n",
       "count      18157.000000         18180.000000      18181.000000    8079.000000   \n",
       "mean       28793.672193         14191.277833          0.611408     490.804555   \n",
       "std        12630.880622          8608.386210          0.802074     342.317995   \n",
       "min            0.000000           181.000000          0.000000       1.000000   \n",
       "25%        18585.000000          9238.000000          0.000000     288.000000   \n",
       "50%        26726.000000         13098.500000          0.000000     455.000000   \n",
       "75%        37273.000000         16293.000000          1.000000     612.000000   \n",
       "max        84869.000000         65968.000000          3.000000    3190.000000   \n",
       "\n",
       "       ponds_around3000  ponds_nearest  days_exposition  \n",
       "count      18181.000000    9110.000000     20518.000000  \n",
       "mean           0.770255     517.980900       180.888634  \n",
       "std            0.938346     277.720643       219.727988  \n",
       "min            0.000000      13.000000         1.000000  \n",
       "25%            0.000000     294.000000        45.000000  \n",
       "50%            1.000000     502.000000        95.000000  \n",
       "75%            1.000000     729.000000       232.000000  \n",
       "max            3.000000    1344.000000      1580.000000  "
      ]
     },
     "execution_count": 1,
     "metadata": {},
     "output_type": "execute_result"
    }
   ],
   "source": [
    "import pandas as pd\n",
    "import numpy as np\n",
    "# import matplotlib\n",
    "import matplotlib.pyplot as plt\n",
    "# import pylab\n",
    "#import matplotlib.ticker as ticker # три закоментированные импорта помогли отобразить подпись на гистограммах, \n",
    "# но если их закомментить, подписи все равно отображаются, хотя до импорта не отображались\n",
    "\n",
    "df = pd.read_csv('real_estate_data.csv', sep='\\t')\n",
    "df.info()\n",
    "df.describe() # по ширине отображает максимум 17 столбцов, а в таблице их 22"
   ]
  },
  {
   "cell_type": "code",
   "execution_count": 2,
   "metadata": {},
   "outputs": [
    {
     "data": {
      "text/html": [
       "<div>\n",
       "<style scoped>\n",
       "    .dataframe tbody tr th:only-of-type {\n",
       "        vertical-align: middle;\n",
       "    }\n",
       "\n",
       "    .dataframe tbody tr th {\n",
       "        vertical-align: top;\n",
       "    }\n",
       "\n",
       "    .dataframe thead th {\n",
       "        text-align: right;\n",
       "    }\n",
       "</style>\n",
       "<table border=\"1\" class=\"dataframe\">\n",
       "  <thead>\n",
       "    <tr style=\"text-align: right;\">\n",
       "      <th></th>\n",
       "      <th>total_images</th>\n",
       "      <th>last_price</th>\n",
       "      <th>total_area</th>\n",
       "      <th>first_day_exposition</th>\n",
       "      <th>rooms</th>\n",
       "      <th>ceiling_height</th>\n",
       "      <th>floors_total</th>\n",
       "      <th>living_area</th>\n",
       "      <th>floor</th>\n",
       "      <th>is_apartment</th>\n",
       "      <th>...</th>\n",
       "      <th>kitchen_area</th>\n",
       "      <th>balcony</th>\n",
       "      <th>locality_name</th>\n",
       "      <th>airports_nearest</th>\n",
       "      <th>cityCenters_nearest</th>\n",
       "      <th>parks_around3000</th>\n",
       "      <th>parks_nearest</th>\n",
       "      <th>ponds_around3000</th>\n",
       "      <th>ponds_nearest</th>\n",
       "      <th>days_exposition</th>\n",
       "    </tr>\n",
       "  </thead>\n",
       "  <tbody>\n",
       "    <tr>\n",
       "      <th>0</th>\n",
       "      <td>20</td>\n",
       "      <td>13000000.0</td>\n",
       "      <td>108.00</td>\n",
       "      <td>2019-03-07T00:00:00</td>\n",
       "      <td>3</td>\n",
       "      <td>2.70</td>\n",
       "      <td>16.0</td>\n",
       "      <td>51.0</td>\n",
       "      <td>8</td>\n",
       "      <td>NaN</td>\n",
       "      <td>...</td>\n",
       "      <td>25.00</td>\n",
       "      <td>NaN</td>\n",
       "      <td>Санкт-Петербург</td>\n",
       "      <td>18863.0</td>\n",
       "      <td>16028.0</td>\n",
       "      <td>1.0</td>\n",
       "      <td>482.0</td>\n",
       "      <td>2.0</td>\n",
       "      <td>755.0</td>\n",
       "      <td>NaN</td>\n",
       "    </tr>\n",
       "    <tr>\n",
       "      <th>1</th>\n",
       "      <td>7</td>\n",
       "      <td>3350000.0</td>\n",
       "      <td>40.40</td>\n",
       "      <td>2018-12-04T00:00:00</td>\n",
       "      <td>1</td>\n",
       "      <td>NaN</td>\n",
       "      <td>11.0</td>\n",
       "      <td>18.6</td>\n",
       "      <td>1</td>\n",
       "      <td>NaN</td>\n",
       "      <td>...</td>\n",
       "      <td>11.00</td>\n",
       "      <td>2.0</td>\n",
       "      <td>посёлок Шушары</td>\n",
       "      <td>12817.0</td>\n",
       "      <td>18603.0</td>\n",
       "      <td>0.0</td>\n",
       "      <td>NaN</td>\n",
       "      <td>0.0</td>\n",
       "      <td>NaN</td>\n",
       "      <td>81.0</td>\n",
       "    </tr>\n",
       "    <tr>\n",
       "      <th>2</th>\n",
       "      <td>10</td>\n",
       "      <td>5196000.0</td>\n",
       "      <td>56.00</td>\n",
       "      <td>2015-08-20T00:00:00</td>\n",
       "      <td>2</td>\n",
       "      <td>NaN</td>\n",
       "      <td>5.0</td>\n",
       "      <td>34.3</td>\n",
       "      <td>4</td>\n",
       "      <td>NaN</td>\n",
       "      <td>...</td>\n",
       "      <td>8.30</td>\n",
       "      <td>0.0</td>\n",
       "      <td>Санкт-Петербург</td>\n",
       "      <td>21741.0</td>\n",
       "      <td>13933.0</td>\n",
       "      <td>1.0</td>\n",
       "      <td>90.0</td>\n",
       "      <td>2.0</td>\n",
       "      <td>574.0</td>\n",
       "      <td>558.0</td>\n",
       "    </tr>\n",
       "    <tr>\n",
       "      <th>3</th>\n",
       "      <td>0</td>\n",
       "      <td>64900000.0</td>\n",
       "      <td>159.00</td>\n",
       "      <td>2015-07-24T00:00:00</td>\n",
       "      <td>3</td>\n",
       "      <td>NaN</td>\n",
       "      <td>14.0</td>\n",
       "      <td>NaN</td>\n",
       "      <td>9</td>\n",
       "      <td>NaN</td>\n",
       "      <td>...</td>\n",
       "      <td>NaN</td>\n",
       "      <td>0.0</td>\n",
       "      <td>Санкт-Петербург</td>\n",
       "      <td>28098.0</td>\n",
       "      <td>6800.0</td>\n",
       "      <td>2.0</td>\n",
       "      <td>84.0</td>\n",
       "      <td>3.0</td>\n",
       "      <td>234.0</td>\n",
       "      <td>424.0</td>\n",
       "    </tr>\n",
       "    <tr>\n",
       "      <th>4</th>\n",
       "      <td>2</td>\n",
       "      <td>10000000.0</td>\n",
       "      <td>100.00</td>\n",
       "      <td>2018-06-19T00:00:00</td>\n",
       "      <td>2</td>\n",
       "      <td>3.03</td>\n",
       "      <td>14.0</td>\n",
       "      <td>32.0</td>\n",
       "      <td>13</td>\n",
       "      <td>NaN</td>\n",
       "      <td>...</td>\n",
       "      <td>41.00</td>\n",
       "      <td>NaN</td>\n",
       "      <td>Санкт-Петербург</td>\n",
       "      <td>31856.0</td>\n",
       "      <td>8098.0</td>\n",
       "      <td>2.0</td>\n",
       "      <td>112.0</td>\n",
       "      <td>1.0</td>\n",
       "      <td>48.0</td>\n",
       "      <td>121.0</td>\n",
       "    </tr>\n",
       "    <tr>\n",
       "      <th>...</th>\n",
       "      <td>...</td>\n",
       "      <td>...</td>\n",
       "      <td>...</td>\n",
       "      <td>...</td>\n",
       "      <td>...</td>\n",
       "      <td>...</td>\n",
       "      <td>...</td>\n",
       "      <td>...</td>\n",
       "      <td>...</td>\n",
       "      <td>...</td>\n",
       "      <td>...</td>\n",
       "      <td>...</td>\n",
       "      <td>...</td>\n",
       "      <td>...</td>\n",
       "      <td>...</td>\n",
       "      <td>...</td>\n",
       "      <td>...</td>\n",
       "      <td>...</td>\n",
       "      <td>...</td>\n",
       "      <td>...</td>\n",
       "      <td>...</td>\n",
       "    </tr>\n",
       "    <tr>\n",
       "      <th>23694</th>\n",
       "      <td>9</td>\n",
       "      <td>9700000.0</td>\n",
       "      <td>133.81</td>\n",
       "      <td>2017-03-21T00:00:00</td>\n",
       "      <td>3</td>\n",
       "      <td>3.70</td>\n",
       "      <td>5.0</td>\n",
       "      <td>73.3</td>\n",
       "      <td>3</td>\n",
       "      <td>NaN</td>\n",
       "      <td>...</td>\n",
       "      <td>13.83</td>\n",
       "      <td>NaN</td>\n",
       "      <td>Санкт-Петербург</td>\n",
       "      <td>24665.0</td>\n",
       "      <td>4232.0</td>\n",
       "      <td>1.0</td>\n",
       "      <td>796.0</td>\n",
       "      <td>3.0</td>\n",
       "      <td>381.0</td>\n",
       "      <td>NaN</td>\n",
       "    </tr>\n",
       "    <tr>\n",
       "      <th>23695</th>\n",
       "      <td>14</td>\n",
       "      <td>3100000.0</td>\n",
       "      <td>59.00</td>\n",
       "      <td>2018-01-15T00:00:00</td>\n",
       "      <td>3</td>\n",
       "      <td>NaN</td>\n",
       "      <td>5.0</td>\n",
       "      <td>38.0</td>\n",
       "      <td>4</td>\n",
       "      <td>NaN</td>\n",
       "      <td>...</td>\n",
       "      <td>8.50</td>\n",
       "      <td>NaN</td>\n",
       "      <td>Тосно</td>\n",
       "      <td>NaN</td>\n",
       "      <td>NaN</td>\n",
       "      <td>NaN</td>\n",
       "      <td>NaN</td>\n",
       "      <td>NaN</td>\n",
       "      <td>NaN</td>\n",
       "      <td>45.0</td>\n",
       "    </tr>\n",
       "    <tr>\n",
       "      <th>23696</th>\n",
       "      <td>18</td>\n",
       "      <td>2500000.0</td>\n",
       "      <td>56.70</td>\n",
       "      <td>2018-02-11T00:00:00</td>\n",
       "      <td>2</td>\n",
       "      <td>NaN</td>\n",
       "      <td>3.0</td>\n",
       "      <td>29.7</td>\n",
       "      <td>1</td>\n",
       "      <td>NaN</td>\n",
       "      <td>...</td>\n",
       "      <td>NaN</td>\n",
       "      <td>NaN</td>\n",
       "      <td>село Рождествено</td>\n",
       "      <td>NaN</td>\n",
       "      <td>NaN</td>\n",
       "      <td>NaN</td>\n",
       "      <td>NaN</td>\n",
       "      <td>NaN</td>\n",
       "      <td>NaN</td>\n",
       "      <td>NaN</td>\n",
       "    </tr>\n",
       "    <tr>\n",
       "      <th>23697</th>\n",
       "      <td>13</td>\n",
       "      <td>11475000.0</td>\n",
       "      <td>76.75</td>\n",
       "      <td>2017-03-28T00:00:00</td>\n",
       "      <td>2</td>\n",
       "      <td>3.00</td>\n",
       "      <td>17.0</td>\n",
       "      <td>NaN</td>\n",
       "      <td>12</td>\n",
       "      <td>NaN</td>\n",
       "      <td>...</td>\n",
       "      <td>23.30</td>\n",
       "      <td>2.0</td>\n",
       "      <td>Санкт-Петербург</td>\n",
       "      <td>39140.0</td>\n",
       "      <td>10364.0</td>\n",
       "      <td>2.0</td>\n",
       "      <td>173.0</td>\n",
       "      <td>3.0</td>\n",
       "      <td>196.0</td>\n",
       "      <td>602.0</td>\n",
       "    </tr>\n",
       "    <tr>\n",
       "      <th>23698</th>\n",
       "      <td>4</td>\n",
       "      <td>1350000.0</td>\n",
       "      <td>32.30</td>\n",
       "      <td>2017-07-21T00:00:00</td>\n",
       "      <td>1</td>\n",
       "      <td>2.50</td>\n",
       "      <td>5.0</td>\n",
       "      <td>12.3</td>\n",
       "      <td>1</td>\n",
       "      <td>NaN</td>\n",
       "      <td>...</td>\n",
       "      <td>9.00</td>\n",
       "      <td>NaN</td>\n",
       "      <td>поселок Новый Учхоз</td>\n",
       "      <td>NaN</td>\n",
       "      <td>NaN</td>\n",
       "      <td>NaN</td>\n",
       "      <td>NaN</td>\n",
       "      <td>NaN</td>\n",
       "      <td>NaN</td>\n",
       "      <td>NaN</td>\n",
       "    </tr>\n",
       "  </tbody>\n",
       "</table>\n",
       "<p>23699 rows × 22 columns</p>\n",
       "</div>"
      ],
      "text/plain": [
       "       total_images  last_price  total_area first_day_exposition  rooms  \\\n",
       "0                20  13000000.0      108.00  2019-03-07T00:00:00      3   \n",
       "1                 7   3350000.0       40.40  2018-12-04T00:00:00      1   \n",
       "2                10   5196000.0       56.00  2015-08-20T00:00:00      2   \n",
       "3                 0  64900000.0      159.00  2015-07-24T00:00:00      3   \n",
       "4                 2  10000000.0      100.00  2018-06-19T00:00:00      2   \n",
       "...             ...         ...         ...                  ...    ...   \n",
       "23694             9   9700000.0      133.81  2017-03-21T00:00:00      3   \n",
       "23695            14   3100000.0       59.00  2018-01-15T00:00:00      3   \n",
       "23696            18   2500000.0       56.70  2018-02-11T00:00:00      2   \n",
       "23697            13  11475000.0       76.75  2017-03-28T00:00:00      2   \n",
       "23698             4   1350000.0       32.30  2017-07-21T00:00:00      1   \n",
       "\n",
       "       ceiling_height  floors_total  living_area  floor is_apartment  ...  \\\n",
       "0                2.70          16.0         51.0      8          NaN  ...   \n",
       "1                 NaN          11.0         18.6      1          NaN  ...   \n",
       "2                 NaN           5.0         34.3      4          NaN  ...   \n",
       "3                 NaN          14.0          NaN      9          NaN  ...   \n",
       "4                3.03          14.0         32.0     13          NaN  ...   \n",
       "...               ...           ...          ...    ...          ...  ...   \n",
       "23694            3.70           5.0         73.3      3          NaN  ...   \n",
       "23695             NaN           5.0         38.0      4          NaN  ...   \n",
       "23696             NaN           3.0         29.7      1          NaN  ...   \n",
       "23697            3.00          17.0          NaN     12          NaN  ...   \n",
       "23698            2.50           5.0         12.3      1          NaN  ...   \n",
       "\n",
       "       kitchen_area  balcony        locality_name  airports_nearest  \\\n",
       "0             25.00      NaN      Санкт-Петербург           18863.0   \n",
       "1             11.00      2.0       посёлок Шушары           12817.0   \n",
       "2              8.30      0.0      Санкт-Петербург           21741.0   \n",
       "3               NaN      0.0      Санкт-Петербург           28098.0   \n",
       "4             41.00      NaN      Санкт-Петербург           31856.0   \n",
       "...             ...      ...                  ...               ...   \n",
       "23694         13.83      NaN      Санкт-Петербург           24665.0   \n",
       "23695          8.50      NaN                Тосно               NaN   \n",
       "23696           NaN      NaN     село Рождествено               NaN   \n",
       "23697         23.30      2.0      Санкт-Петербург           39140.0   \n",
       "23698          9.00      NaN  поселок Новый Учхоз               NaN   \n",
       "\n",
       "      cityCenters_nearest  parks_around3000  parks_nearest  ponds_around3000  \\\n",
       "0                 16028.0               1.0          482.0               2.0   \n",
       "1                 18603.0               0.0            NaN               0.0   \n",
       "2                 13933.0               1.0           90.0               2.0   \n",
       "3                  6800.0               2.0           84.0               3.0   \n",
       "4                  8098.0               2.0          112.0               1.0   \n",
       "...                   ...               ...            ...               ...   \n",
       "23694              4232.0               1.0          796.0               3.0   \n",
       "23695                 NaN               NaN            NaN               NaN   \n",
       "23696                 NaN               NaN            NaN               NaN   \n",
       "23697             10364.0               2.0          173.0               3.0   \n",
       "23698                 NaN               NaN            NaN               NaN   \n",
       "\n",
       "       ponds_nearest  days_exposition  \n",
       "0              755.0              NaN  \n",
       "1                NaN             81.0  \n",
       "2              574.0            558.0  \n",
       "3              234.0            424.0  \n",
       "4               48.0            121.0  \n",
       "...              ...              ...  \n",
       "23694          381.0              NaN  \n",
       "23695            NaN             45.0  \n",
       "23696            NaN              NaN  \n",
       "23697          196.0            602.0  \n",
       "23698            NaN              NaN  \n",
       "\n",
       "[23699 rows x 22 columns]"
      ]
     },
     "execution_count": 2,
     "metadata": {},
     "output_type": "execute_result"
    }
   ],
   "source": [
    "df"
   ]
  },
  {
   "cell_type": "markdown",
   "metadata": {},
   "source": [
    "### Вывод"
   ]
  },
  {
   "cell_type": "markdown",
   "metadata": {},
   "source": [
    "При изучении файла обнаружено, что файл имеет 23698 наблюдений. Практически половина значений (54%) отсутсвутют. Вероятная причина: эти пропуски преднамеренно не заполнили те, кто подавал объявление, так как, видимо, при приме объявления эти параметры были не обязатьельными. Либо вопрос необходимо задать тем, кто принимал объявление от продавцов. Либо эти данные были интегрированны в общую таблицу из другого источника, в которых указание этих значений являлось не обязательным. Нахожу целесообразным восстановить ряд данных."
   ]
  },
  {
   "cell_type": "markdown",
   "metadata": {},
   "source": [
    "Некоторые типы данных в столбцах опредлены неверно, их следует заменить, обоснование будет приведено при соотсвующей замене.\n",
    "Обнаружен ряд выбивающихся подозрительных значений:\n",
    "* **Общая площадь** макс. значение 900 кв.м, это практически километр;\n",
    "- **Количество комнат** макс. значение 19 комнат, может это одна и та же квартира;\n",
    "- **Высота потолка** макс. значение 100 метров, в Эрмитаже и то меньше;\n",
    "- **Количество этажей** макс. значение 60. В Петербурге есть два небоскреба: Leader Tower - 43 этажа, Лахта-Центр (Газпром) 87 этажей, но жилых помещений там нет, и вообще он до сих пор не сдан. У всех остальных зданий этажность меньше;\n",
    "- **Жилая площадь** макс. 409 метров, возможно большой частный дом, но скорее исключение;\n",
    "Также я бы обратил внимание на нулевые значения в графах близости аэропорта (оценил бы объем этих значений и заменил бы их на расстояние до ближайших жилых домов)."
   ]
  },
  {
   "cell_type": "markdown",
   "metadata": {},
   "source": [
    "### Шаг 2. Предобработка данных"
   ]
  },
  {
   "cell_type": "markdown",
   "metadata": {},
   "source": [
    "Переименуем неправильно именованные столбцы (исправим код-стайл) и слишком длинные названия укоротим, чтобы таблица лучше вмещалась по ширине."
   ]
  },
  {
   "cell_type": "code",
   "execution_count": 3,
   "metadata": {},
   "outputs": [
    {
     "name": "stdout",
     "output_type": "stream",
     "text": [
      "<class 'pandas.core.frame.DataFrame'>\n",
      "RangeIndex: 23699 entries, 0 to 23698\n",
      "Data columns (total 22 columns):\n",
      " #   Column           Non-Null Count  Dtype  \n",
      "---  ------           --------------  -----  \n",
      " 0   imgage           23699 non-null  int64  \n",
      " 1   last_price       23699 non-null  float64\n",
      " 2   total_s          23699 non-null  float64\n",
      " 3   date_exposition  23699 non-null  object \n",
      " 4   rooms            23699 non-null  int64  \n",
      " 5   ceiling_h        14504 non-null  float64\n",
      " 6   floors           23613 non-null  float64\n",
      " 7   living_s         21796 non-null  float64\n",
      " 8   floor            23699 non-null  int64  \n",
      " 9   apartment        2775 non-null   object \n",
      " 10  studio           23699 non-null  bool   \n",
      " 11  open_plan        23699 non-null  bool   \n",
      " 12  kitchen_s        21421 non-null  float64\n",
      " 13  balcony          12180 non-null  float64\n",
      " 14  city_name        23650 non-null  object \n",
      " 15  airport_dist     18157 non-null  float64\n",
      " 16  center_dist      18180 non-null  float64\n",
      " 17  parks_3km        18181 non-null  float64\n",
      " 18  parks_m          8079 non-null   float64\n",
      " 19  ponds_3km        18181 non-null  float64\n",
      " 20  ponds_m          9110 non-null   float64\n",
      " 21  days_exposition  20518 non-null  float64\n",
      "dtypes: bool(2), float64(14), int64(3), object(3)\n",
      "memory usage: 3.7+ MB\n"
     ]
    }
   ],
   "source": [
    "df.set_axis(['imgage', 'last_price', 'total_s', 'date_exposition', 'rooms', 'ceiling_h', 'floors', \n",
    "             'living_s', 'floor', 'apartment', 'studio', 'open_plan', 'kitchen_s', 'balcony', 'city_name', \n",
    "             'airport_dist', 'center_dist', 'parks_3km', 'parks_m', 'ponds_3km', 'ponds_m', \n",
    "             'days_exposition'], axis='columns', inplace=True)\n",
    "df.info()"
   ]
  },
  {
   "cell_type": "markdown",
   "metadata": {},
   "source": [
    "Для правильного опредления пропусков - необходимо сначала опредлеить и подсчитать дубликаты строк в таблице и удалить их."
   ]
  },
  {
   "cell_type": "code",
   "execution_count": 4,
   "metadata": {},
   "outputs": [
    {
     "data": {
      "text/plain": [
       "0"
      ]
     },
     "execution_count": 4,
     "metadata": {},
     "output_type": "execute_result"
    }
   ],
   "source": [
    "df.duplicated().sum()"
   ]
  },
  {
   "cell_type": "markdown",
   "metadata": {},
   "source": [
    "Дубликатов не обнаружено. Далее следует перейти к подсчету пропусков."
   ]
  },
  {
   "cell_type": "code",
   "execution_count": 5,
   "metadata": {},
   "outputs": [
    {
     "data": {
      "text/plain": [
       "imgage                 0\n",
       "last_price             0\n",
       "total_s                0\n",
       "date_exposition        0\n",
       "rooms                  0\n",
       "ceiling_h           9195\n",
       "floors                86\n",
       "living_s            1903\n",
       "floor                  0\n",
       "apartment          20924\n",
       "studio                 0\n",
       "open_plan              0\n",
       "kitchen_s           2278\n",
       "balcony            11519\n",
       "city_name             49\n",
       "airport_dist        5542\n",
       "center_dist         5519\n",
       "parks_3km           5518\n",
       "parks_m            15620\n",
       "ponds_3km           5518\n",
       "ponds_m            14589\n",
       "days_exposition     3181\n",
       "dtype: int64"
      ]
     },
     "execution_count": 5,
     "metadata": {},
     "output_type": "execute_result"
    }
   ],
   "source": [
    "df.isnull().sum()"
   ]
  },
  {
   "cell_type": "code",
   "execution_count": 6,
   "metadata": {},
   "outputs": [
    {
     "name": "stdout",
     "output_type": "stream",
     "text": [
      "imgage - 0%\n",
      "last_price - 0%\n",
      "total_s - 0%\n",
      "date_exposition - 0%\n",
      "rooms - 0%\n",
      "ceiling_h - 39%\n",
      "floors - 0%\n",
      "living_s - 8%\n",
      "floor - 0%\n",
      "apartment - 88%\n",
      "studio - 0%\n",
      "open_plan - 0%\n",
      "kitchen_s - 10%\n",
      "balcony - 49%\n",
      "city_name - 0%\n",
      "airport_dist - 23%\n",
      "center_dist - 23%\n",
      "parks_3km - 23%\n",
      "parks_m - 66%\n",
      "ponds_3km - 23%\n",
      "ponds_m - 62%\n",
      "days_exposition - 13%\n"
     ]
    }
   ],
   "source": [
    "for col in df.columns:\n",
    "    pct_missing = np.mean(df[col].isnull())\n",
    "    print('{} - {}%'.format(col, round(pct_missing*100)))"
   ]
  },
  {
   "cell_type": "markdown",
   "metadata": {},
   "source": [
    "Заменим пропущенные данные в графе удаленности от центра: \n",
    "- **center_dist** (*удаленность от центра Петербурга*) - отсутсвует 23% значений (5519). Так как информация об удаленности от центра напрямую используется в выводых исследования, считаю необходимым хотя бы половину этих пропусков заполнить точными значениями. Оставшиеся населенные пункты, которые не удасться покрыть данными из словаря (3211 - 13% более мелких населенных пунктов) - раздадим им среднее значение, поскольку все населенные пункты равноудалены от центра Петербурга, а расстояние в графе center_dist указано именно до центра Петербурга, считаем целесообразным заменить пропуски на среднеарифметическим значением."
   ]
  },
  {
   "cell_type": "code",
   "execution_count": 7,
   "metadata": {},
   "outputs": [
    {
     "data": {
      "text/html": [
       "<div>\n",
       "<style scoped>\n",
       "    .dataframe tbody tr th:only-of-type {\n",
       "        vertical-align: middle;\n",
       "    }\n",
       "\n",
       "    .dataframe tbody tr th {\n",
       "        vertical-align: top;\n",
       "    }\n",
       "\n",
       "    .dataframe thead th {\n",
       "        text-align: right;\n",
       "    }\n",
       "</style>\n",
       "<table border=\"1\" class=\"dataframe\">\n",
       "  <thead>\n",
       "    <tr style=\"text-align: right;\">\n",
       "      <th></th>\n",
       "      <th>city_name</th>\n",
       "      <th>center_dist</th>\n",
       "    </tr>\n",
       "  </thead>\n",
       "  <tbody>\n",
       "    <tr>\n",
       "      <th>0</th>\n",
       "      <td>Санкт-Петербург</td>\n",
       "      <td>16028.0</td>\n",
       "    </tr>\n",
       "    <tr>\n",
       "      <th>1</th>\n",
       "      <td>посёлок Шушары</td>\n",
       "      <td>18603.0</td>\n",
       "    </tr>\n",
       "    <tr>\n",
       "      <th>2</th>\n",
       "      <td>Санкт-Петербург</td>\n",
       "      <td>13933.0</td>\n",
       "    </tr>\n",
       "    <tr>\n",
       "      <th>3</th>\n",
       "      <td>Санкт-Петербург</td>\n",
       "      <td>6800.0</td>\n",
       "    </tr>\n",
       "    <tr>\n",
       "      <th>4</th>\n",
       "      <td>Санкт-Петербург</td>\n",
       "      <td>8098.0</td>\n",
       "    </tr>\n",
       "    <tr>\n",
       "      <th>...</th>\n",
       "      <td>...</td>\n",
       "      <td>...</td>\n",
       "    </tr>\n",
       "    <tr>\n",
       "      <th>23694</th>\n",
       "      <td>Санкт-Петербург</td>\n",
       "      <td>4232.0</td>\n",
       "    </tr>\n",
       "    <tr>\n",
       "      <th>23695</th>\n",
       "      <td>Тосно</td>\n",
       "      <td>56000.0</td>\n",
       "    </tr>\n",
       "    <tr>\n",
       "      <th>23696</th>\n",
       "      <td>село Рождествено</td>\n",
       "      <td>81000.0</td>\n",
       "    </tr>\n",
       "    <tr>\n",
       "      <th>23697</th>\n",
       "      <td>Санкт-Петербург</td>\n",
       "      <td>10364.0</td>\n",
       "    </tr>\n",
       "    <tr>\n",
       "      <th>23698</th>\n",
       "      <td>поселок Новый Учхоз</td>\n",
       "      <td>67000.0</td>\n",
       "    </tr>\n",
       "  </tbody>\n",
       "</table>\n",
       "<p>23699 rows × 2 columns</p>\n",
       "</div>"
      ],
      "text/plain": [
       "                 city_name  center_dist\n",
       "0          Санкт-Петербург      16028.0\n",
       "1           посёлок Шушары      18603.0\n",
       "2          Санкт-Петербург      13933.0\n",
       "3          Санкт-Петербург       6800.0\n",
       "4          Санкт-Петербург       8098.0\n",
       "...                    ...          ...\n",
       "23694      Санкт-Петербург       4232.0\n",
       "23695                Тосно      56000.0\n",
       "23696     село Рождествено      81000.0\n",
       "23697      Санкт-Петербург      10364.0\n",
       "23698  поселок Новый Учхоз      67000.0\n",
       "\n",
       "[23699 rows x 2 columns]"
      ]
     },
     "execution_count": 7,
     "metadata": {},
     "output_type": "execute_result"
    }
   ],
   "source": [
    "distances = {'Гатчина': 48000, 'Павловск': 31000, 'Сестрорецк': 37000, 'Пушкин': 26000, 'Петродворец': 45000, 'Выборг': 140000, \n",
    "            'Петергоф': 45000, 'Стрельна': 32000, 'Колпино': 33000, 'деревня Кудрово': 12000, 'городской посёлок Янино-1': 13000,\n",
    "            'посёлок Бугры': 23000, 'посёлок Мурино': 22000, 'Сосновый бор': 100000, 'Всеволожск': 25000, 'Зеленогорск': 55000,\n",
    "            'Красное Село': 31000, 'Ломоносов': 53000, 'Сертолово': 38000, 'Кронштадт': 54000, 'Тосно': 56000, 'посёлок Металлострой': 21000, \n",
    "             'Санкт-Петербург': 10000, 'посёлок Парголово': 20000, 'поселок городского типа Красный Бор': 38000, \"посёлок Шушары\": 16000, \n",
    "             \"Кировск\": 47000, 'поселок Новый Учхоз': 67000, 'село Рождествено': 81000,\n",
    "            }\n",
    "\n",
    "def dist_from_center(row):\n",
    "    s = str(row['center_dist'])    # определим есть ли в строке nan и преобразуем для возможности сравнения в строку\n",
    "    if s != 'nan':                  # если в строке не nan\n",
    "        return row['center_dist']  # то мы вернем прежнее значение в ячейку\n",
    "    if row['city_name'] in distances and s == 'nan': # если город есть в словаре и строка == nan\n",
    "        return distances[row['city_name']]                     # в таблице nan меняем на найденное значение в словаре\n",
    "    else:\n",
    "        return row['center_dist']\n",
    "\n",
    "df['center_dist'] = df.apply(dist_from_center, axis=1)\n",
    "df.loc[df.center_dist.isnull(), 'center_dist'] = round(df.center_dist.mean()) # удаленность от центра заменили средним\n",
    "\n",
    "df.loc[:, ['city_name', 'center_dist']]"
   ]
  },
  {
   "cell_type": "markdown",
   "metadata": {},
   "source": [
    "* **ceiling_h** (*высота потолков*) - отсутсвует 38% значений (существенно). Выводы исследования напрямую затрагивают высоту потолков. На наш взгляд, целесообразно было бы опредлеить в каких именно квартирах отсуствуют значения высоты потолков и заполнить пропуски средним значениями подобных квартир. Но для этого необходимо будет перегруппировать данные так, чтобы опредлеить подобные квартиры - за основу взять удаленность от центра города (в Петербурге сталинские и дореволюционные дома с высокими потолками располагаются ближе к центру). Квартиры с удалением от центра города до 8500 м считать квартирами  с высокими потолками ирассчитать медианное значение для квартир этой группы. Хрущевок и современных домов в центре нет. Для квартир на окраинах города или за городом (расстояние более 8500 от центра) - рассчитать медианное значение для этой группы и присвоить его аналогичным квартирам из этой группы. \n",
    "Рассчитаем среднюю высоту потолка в старых квартирах в центре и отдлеьно в квартирах на окраинах и заменим соотсвующими значениями."
   ]
  },
  {
   "cell_type": "code",
   "execution_count": 8,
   "metadata": {
    "scrolled": true
   },
   "outputs": [
    {
     "data": {
      "text/html": [
       "<div>\n",
       "<style scoped>\n",
       "    .dataframe tbody tr th:only-of-type {\n",
       "        vertical-align: middle;\n",
       "    }\n",
       "\n",
       "    .dataframe tbody tr th {\n",
       "        vertical-align: top;\n",
       "    }\n",
       "\n",
       "    .dataframe thead th {\n",
       "        text-align: right;\n",
       "    }\n",
       "</style>\n",
       "<table border=\"1\" class=\"dataframe\">\n",
       "  <thead>\n",
       "    <tr style=\"text-align: right;\">\n",
       "      <th></th>\n",
       "      <th>center_dist</th>\n",
       "      <th>ceiling_h</th>\n",
       "    </tr>\n",
       "  </thead>\n",
       "  <tbody>\n",
       "    <tr>\n",
       "      <th>23689</th>\n",
       "      <td>16081.0</td>\n",
       "      <td>2.86</td>\n",
       "    </tr>\n",
       "    <tr>\n",
       "      <th>23690</th>\n",
       "      <td>6263.0</td>\n",
       "      <td>3.13</td>\n",
       "    </tr>\n",
       "    <tr>\n",
       "      <th>23691</th>\n",
       "      <td>4489.0</td>\n",
       "      <td>2.75</td>\n",
       "    </tr>\n",
       "    <tr>\n",
       "      <th>23692</th>\n",
       "      <td>17094.0</td>\n",
       "      <td>2.69</td>\n",
       "    </tr>\n",
       "    <tr>\n",
       "      <th>23693</th>\n",
       "      <td>34104.0</td>\n",
       "      <td>2.60</td>\n",
       "    </tr>\n",
       "    <tr>\n",
       "      <th>23694</th>\n",
       "      <td>4232.0</td>\n",
       "      <td>3.70</td>\n",
       "    </tr>\n",
       "    <tr>\n",
       "      <th>23695</th>\n",
       "      <td>56000.0</td>\n",
       "      <td>2.69</td>\n",
       "    </tr>\n",
       "    <tr>\n",
       "      <th>23696</th>\n",
       "      <td>81000.0</td>\n",
       "      <td>2.69</td>\n",
       "    </tr>\n",
       "    <tr>\n",
       "      <th>23697</th>\n",
       "      <td>10364.0</td>\n",
       "      <td>3.00</td>\n",
       "    </tr>\n",
       "    <tr>\n",
       "      <th>23698</th>\n",
       "      <td>67000.0</td>\n",
       "      <td>2.50</td>\n",
       "    </tr>\n",
       "  </tbody>\n",
       "</table>\n",
       "</div>"
      ],
      "text/plain": [
       "       center_dist  ceiling_h\n",
       "23689      16081.0       2.86\n",
       "23690       6263.0       3.13\n",
       "23691       4489.0       2.75\n",
       "23692      17094.0       2.69\n",
       "23693      34104.0       2.60\n",
       "23694       4232.0       3.70\n",
       "23695      56000.0       2.69\n",
       "23696      81000.0       2.69\n",
       "23697      10364.0       3.00\n",
       "23698      67000.0       2.50"
      ]
     },
     "execution_count": 8,
     "metadata": {},
     "output_type": "execute_result"
    }
   ],
   "source": [
    "center_flats_df = df.query('center_dist <= 8500')\n",
    "outskirts_flats_df = df.query('center_dist > 8500')\n",
    "\n",
    "ceiling_center_mean = round(center_flats_df.ceiling_h.mean(), 2) # в центре высота потолка =3,13\n",
    "ceiling_outerskirts_mean = round(outskirts_flats_df.ceiling_h.mean(), 2) # на окраине высота потолка =2,69                                        \n",
    "                                                 \n",
    "def defenition_center_dist(row):\n",
    "    s = str(row['ceiling_h'])    # определим есть ли в строке nan и преобразуем для возможности сравнения в строку\n",
    "    if s != 'nan':               # если в строке не nan\n",
    "        return row['ceiling_h']  # то мы вернем прежнее значение в ячейку и проанализируем следующую\n",
    "    if row['center_dist'] <= 8500 and s == 'nan': # если это квартира в центре и строка == nan\n",
    "        return ceiling_center_mean                # и присываиваем в яччейку среднее значение потолка 3,13 м\n",
    "    if row['center_dist'] > 8500 and s == 'nan':  # если это квартира на окраине и строка == nan\n",
    "        return ceiling_outerskirts_mean           # и присываиваем в яччейку среднее значение потолка 2,69 м\n",
    "\n",
    "df['ceiling_h'] = df.apply(defenition_center_dist, axis=1)\n",
    "df.loc[:, ['center_dist', 'ceiling_h']].tail(10)"
   ]
  },
  {
   "cell_type": "code",
   "execution_count": 9,
   "metadata": {},
   "outputs": [
    {
     "name": "stdout",
     "output_type": "stream",
     "text": [
      "Среднее значение высоты потолков в целом по СПБ и ЛО составляет 2.77 метра. \n"
     ]
    }
   ],
   "source": [
    "print(f'Среднее значение высоты потолков в целом по СПБ и ЛО составляет {round(df.ceiling_h.mean(), 2)} метра. ')"
   ]
  },
  {
   "cell_type": "markdown",
   "metadata": {},
   "source": [
    "- **airport_dist** (*расстояние до аэропорта в м*) - отсутсвует 23% значений (5542). Мы предлагаем измерить расстояние до конкретных населенных пунктов и заменить ими пустые значения.\n"
   ]
  },
  {
   "cell_type": "code",
   "execution_count": 10,
   "metadata": {},
   "outputs": [
    {
     "data": {
      "text/html": [
       "<div>\n",
       "<style scoped>\n",
       "    .dataframe tbody tr th:only-of-type {\n",
       "        vertical-align: middle;\n",
       "    }\n",
       "\n",
       "    .dataframe tbody tr th {\n",
       "        vertical-align: top;\n",
       "    }\n",
       "\n",
       "    .dataframe thead th {\n",
       "        text-align: right;\n",
       "    }\n",
       "</style>\n",
       "<table border=\"1\" class=\"dataframe\">\n",
       "  <thead>\n",
       "    <tr style=\"text-align: right;\">\n",
       "      <th></th>\n",
       "      <th>city_name</th>\n",
       "      <th>airport_dist</th>\n",
       "    </tr>\n",
       "  </thead>\n",
       "  <tbody>\n",
       "    <tr>\n",
       "      <th>0</th>\n",
       "      <td>Санкт-Петербург</td>\n",
       "      <td>18863.0</td>\n",
       "    </tr>\n",
       "    <tr>\n",
       "      <th>1</th>\n",
       "      <td>посёлок Шушары</td>\n",
       "      <td>12817.0</td>\n",
       "    </tr>\n",
       "    <tr>\n",
       "      <th>2</th>\n",
       "      <td>Санкт-Петербург</td>\n",
       "      <td>21741.0</td>\n",
       "    </tr>\n",
       "    <tr>\n",
       "      <th>3</th>\n",
       "      <td>Санкт-Петербург</td>\n",
       "      <td>28098.0</td>\n",
       "    </tr>\n",
       "    <tr>\n",
       "      <th>4</th>\n",
       "      <td>Санкт-Петербург</td>\n",
       "      <td>31856.0</td>\n",
       "    </tr>\n",
       "    <tr>\n",
       "      <th>5</th>\n",
       "      <td>городской посёлок Янино-1</td>\n",
       "      <td>30000.0</td>\n",
       "    </tr>\n",
       "    <tr>\n",
       "      <th>6</th>\n",
       "      <td>посёлок Парголово</td>\n",
       "      <td>52996.0</td>\n",
       "    </tr>\n",
       "  </tbody>\n",
       "</table>\n",
       "</div>"
      ],
      "text/plain": [
       "                   city_name  airport_dist\n",
       "0            Санкт-Петербург       18863.0\n",
       "1             посёлок Шушары       12817.0\n",
       "2            Санкт-Петербург       21741.0\n",
       "3            Санкт-Петербург       28098.0\n",
       "4            Санкт-Петербург       31856.0\n",
       "5  городской посёлок Янино-1       30000.0\n",
       "6          посёлок Парголово       52996.0"
      ]
     },
     "execution_count": 10,
     "metadata": {},
     "output_type": "execute_result"
    }
   ],
   "source": [
    "distances = {'Гатчина': 28300, 'Павловск': 16200, 'Сестрорецк': 60000, 'Пушкин': 12000, 'Петродворец': 33000, 'Выборг': 150000, \n",
    "            'Петергоф': 33000, 'Стрельна': 25200, 'Колпино': 27000, 'деревня Кудрово': 27000, 'городской посёлок Янино-1': 30000,\n",
    "            'посёлок Бугры': 48000, 'посёлок Мурино': 47000, 'Сосновый бор': 95000, 'Всеволожск': 47000, 'Зеленогорск': 72000,\n",
    "            'Красное Село': 23000, 'Ломоносов': 41000, 'Сертолово': 56000, 'Кронштадт': 7000, 'Тосно': 50000, 'посёлок Металлострой': 27000, \n",
    "             'Санкт-Петербург': 15000, 'посёлок Парголово': 60000, 'поселок городского типа Красный Бор': 33000, \"посёлок Шушары\": 12000, \"Кировск\": 55000\n",
    "            }\n",
    "\n",
    "def write_airport_dist(row):\n",
    "    s = str(row['airport_dist'])    # определим есть ли в строке nan и преобразуем для возможности сравнения в строку\n",
    "    if s != 'nan':                  # если в строке не nan\n",
    "        return row['airport_dist']  # то мы вернем прежнее значение в ячейку\n",
    "    if row['city_name'] in distances and s == 'nan': # если город есть в словаре и строка == nan\n",
    "        return distances[row['city_name']]                     # в таблице nan меняем на найденное значение в словаре\n",
    "    else:\n",
    "        return row['airport_dist']\n",
    "\n",
    "df['airport_dist'] = df.apply(write_airport_dist, axis=1)\n",
    "\n",
    "df.loc[:, ['city_name', 'airport_dist']].head(7)"
   ]
  },
  {
   "cell_type": "code",
   "execution_count": 11,
   "metadata": {},
   "outputs": [
    {
     "data": {
      "text/plain": [
       "3220"
      ]
     },
     "execution_count": 11,
     "metadata": {},
     "output_type": "execute_result"
    }
   ],
   "source": [
    "df['airport_dist'].isnull().sum()"
   ]
  },
  {
   "cell_type": "markdown",
   "metadata": {},
   "source": [
    "Заполнение пропусков, путем подстановки точных расстояний, сократило количество пустых значений практически наполовину, оставшиейся 13%, которые не удалось предусмотреть (очень маленькие редкие поселения) - заменили медианным значением. Проверил результат - рессчитали верно, практически так и есть. Незаполненных значений расстояний до аэропорта не осталось."
   ]
  },
  {
   "cell_type": "code",
   "execution_count": 12,
   "metadata": {},
   "outputs": [
    {
     "data": {
      "text/plain": [
       "0"
      ]
     },
     "execution_count": 12,
     "metadata": {},
     "output_type": "execute_result"
    }
   ],
   "source": [
    "df.loc[df.airport_dist.isnull(), 'airport_dist'] = round(df.airport_dist.median())\n",
    "df['airport_dist'].isnull().sum()"
   ]
  },
  {
   "cell_type": "markdown",
   "metadata": {},
   "source": [
    "Оставшиеся пустые значения заменим группой. \n",
    "- **floors** (*кол-во этажей в доме*) - отсутсвует 0,03% значений (крайне низкое), можно смело заменить медианным значением;\n",
    "- **apartment** (*является ли недвижимость апартаментами*) - отсутсвует 88% значений. Вероятно, значения отсутствуют, потому что объявление не было пемечено как апартаменты (поле осталось пустым). К сведению, по итогам 2019 года, доля продаж апартаментов составила 10% (при росте на 12% по сравнению с 2018 годом: с 8,8 до 10%), жилой недвижимости было продано к концу 2019 года 90%, а значит в исследуемый период 2015-2019 апартаментов было, вероятно, еще меньше 6-10%, а значит отсуствующие 88% значений можно заменить на False - не апартаменты - жилая;\n",
    "- **kitchen_s** (*площадь кухни*) - отсутсвует 9,5% значений. Либо это жилье является квартирой-студией, либо продается просто комната. Решено пока оставить значение пустым, либо потом заменить на ноль.\n",
    "- **balcony** (*число балконов*) - отсутсвует 48% значений. Предположим, что если человек не указал балкон, значит его нет - заменим на ноль;\n",
    "- **city_name** (*населенный пункт*) - отсутсвует 0,2% значений (несущественно). Так основная недвижимость продается в СПБ и пригородах, которые официально являются Питером - можно смело заменить на Санкт-Петербург при дополнительном условии что пустые значения будут у городов в радиусе не более 13000 метров.\n",
    "- **parks_3km** (*число парков в радиусе 3 км*) - отсутсвует 23% значений (существенно). Заменить на среднеарифметическим значением;\n",
    "- **ponds_3km** (*число водоёмов в радиусе 3 км*) - заменить на среднеарифметическое число;\n",
    "- **ponds_m** (*близость водоёма*) - отсутсвует 61% значений (весьма существенно); Можно заменить на среднеарифметическое.\n",
    "- **days_exposition** (*сколько дней было размещено объявление*) - отсутсвует 13% значений (существенно); Один из выводов исследования касается скорости продажи. Можно оставить пустым либо заменить среднеарифметическим.\n",
    "\n",
    "Пустые значения расстояний до парков и водоемов нахожу целесообразным заполнить средним. Всё что было выше 20% отсутсвующих значений - дополнительно обратил бы на это внимание предоставивших данные, и согласовал бы метод заполнения отсутсвующих значений."
   ]
  },
  {
   "cell_type": "code",
   "execution_count": 13,
   "metadata": {},
   "outputs": [
    {
     "data": {
      "text/plain": [
       "imgage                0\n",
       "last_price            0\n",
       "total_s               0\n",
       "date_exposition       0\n",
       "rooms                 0\n",
       "ceiling_h             0\n",
       "floors                0\n",
       "living_s           1903\n",
       "floor                 0\n",
       "apartment             0\n",
       "studio                0\n",
       "open_plan             0\n",
       "kitchen_s             0\n",
       "balcony               0\n",
       "city_name            21\n",
       "airport_dist          0\n",
       "center_dist           0\n",
       "parks_3km             0\n",
       "parks_m               0\n",
       "ponds_3km             0\n",
       "ponds_m               0\n",
       "days_exposition       0\n",
       "dtype: int64"
      ]
     },
     "execution_count": 13,
     "metadata": {},
     "output_type": "execute_result"
    }
   ],
   "source": [
    "df.loc[df.floors.isnull(), 'floors'] = round(df.floors.median())\n",
    "df.loc[df.apartment.isnull(), 'apartment'] = False\n",
    "df.loc[df.kitchen_s.isnull(), 'kitchen_s'] = 0.0\n",
    "df.loc[df.balcony.isnull(), 'balcony'] = 0\n",
    "df.loc[(df.city_name.isnull() & (df.center_dist < 13000)), 'city_name'] = 'Санкт-Петербург' # уменьшит с 49 до 21\n",
    "df.loc[df.parks_3km.isnull(), 'parks_3km'] = round(df.parks_3km.median()) # снижает риск от выбивающихся значений\n",
    "df.loc[df.parks_m.isnull(), 'parks_m'] = round(df.parks_m.median())\n",
    "df.loc[df.ponds_3km.isnull(), 'ponds_3km'] = round(df.ponds_3km.median())\n",
    "df.loc[df.ponds_m.isnull(), 'ponds_m'] = round(df.ponds_m.mean())\n",
    "df.loc[df.days_exposition.isnull(), 'days_exposition'] = round(df.days_exposition.mean())\n",
    "\n",
    "df.isnull().sum()"
   ]
  },
  {
   "cell_type": "markdown",
   "metadata": {},
   "source": [
    "- **living_s** (*жилая площадь в кв.м.) - отсутсвует 7,9% значений (существенный). При более детальном изучении, мы видим, что эта недвижимость в то же время не является ни апартаментами, ни студией, не зависит от метража ни от площади, но практически у всех них нет кухни, скорее всего это комнаты, либо офис или коммерческое помещение. Причина незаполненных данных - неизвестна: либо хотели преднамеренно скрыть непривлекательные данные небольшого метража, либо по документам помещение не является жилым, либо забыли указать. На наш взгляд возможно восстанвовить эти данные по формуле: жилая площадь = общая площадь - кухня - балкон. Те значения, которые не удасться восстановить (не хватит одного из компонентов - удалим всю строку."
   ]
  },
  {
   "cell_type": "code",
   "execution_count": 14,
   "metadata": {},
   "outputs": [
    {
     "data": {
      "text/plain": [
       "0"
      ]
     },
     "execution_count": 14,
     "metadata": {},
     "output_type": "execute_result"
    }
   ],
   "source": [
    "df['living_s'] = df['total_s'] - df['kitchen_s'] - df['balcony']\n",
    "df.living_s.isnull().sum()"
   ]
  },
  {
   "cell_type": "markdown",
   "metadata": {},
   "source": [
    "Все значения жилой площади удалось восстановить."
   ]
  },
  {
   "cell_type": "markdown",
   "metadata": {},
   "source": [
    "Некоторые типы данных в столбцах опредлены неверно, их следует заменить: \n",
    "* **last_price** (*цена квартиры*) - тип данных float64, цены на жилье с копейками не пишут - заменить на целое число;\n",
    "- **first_day_exposition** (*дата публикации объявления*) - является строкой (object), а должен иметь тип даты;\n",
    "- **floors** (*кол-во этажей в доме*) - тип float64, а количество этажей не может быть дробным, заменить на число;\n",
    "- **apartment** (*является ли недвижимость апартаментами*) - тип object, а должен быть должен быть булевым типом;\n",
    "- **balcony** (*число балконов*) - тип float64, а количество балконов должно выражаться целым числом;\n",
    "- **parks_3km** (*число парков в радиусе 3 км*) - тип float64, кол-во необходимо выражать целым числом;\n",
    "- **parks_m** (*расстояние до ближайшего парка в метрах*) - тип float64 заменить на целое число, дробить метры нет смысла; \n",
    "- **ponds_3km** (*число водоёмов в радиусе 3 км*) - тип float64 заменить на целое число;\n",
    "- **ponds_m** (*расстояние до ближайшего водоёма*) - тип float64 заменить на целое число, дробить метры нет смысла; \n",
    "- **days_exposition** (*сколько дней было размещено объявление*) - тип float64 заменить на целое число, дробить дни нет смысла;"
   ]
  },
  {
   "cell_type": "code",
   "execution_count": 15,
   "metadata": {},
   "outputs": [
    {
     "data": {
      "text/html": [
       "<div>\n",
       "<style scoped>\n",
       "    .dataframe tbody tr th:only-of-type {\n",
       "        vertical-align: middle;\n",
       "    }\n",
       "\n",
       "    .dataframe tbody tr th {\n",
       "        vertical-align: top;\n",
       "    }\n",
       "\n",
       "    .dataframe thead th {\n",
       "        text-align: right;\n",
       "    }\n",
       "</style>\n",
       "<table border=\"1\" class=\"dataframe\">\n",
       "  <thead>\n",
       "    <tr style=\"text-align: right;\">\n",
       "      <th></th>\n",
       "      <th>imgage</th>\n",
       "      <th>last_price</th>\n",
       "      <th>total_s</th>\n",
       "      <th>date_exposition</th>\n",
       "      <th>rooms</th>\n",
       "      <th>ceiling_h</th>\n",
       "      <th>floors</th>\n",
       "      <th>living_s</th>\n",
       "      <th>floor</th>\n",
       "      <th>apartment</th>\n",
       "      <th>...</th>\n",
       "      <th>kitchen_s</th>\n",
       "      <th>balcony</th>\n",
       "      <th>city_name</th>\n",
       "      <th>airport_dist</th>\n",
       "      <th>center_dist</th>\n",
       "      <th>parks_3km</th>\n",
       "      <th>parks_m</th>\n",
       "      <th>ponds_3km</th>\n",
       "      <th>ponds_m</th>\n",
       "      <th>days_exposition</th>\n",
       "    </tr>\n",
       "  </thead>\n",
       "  <tbody>\n",
       "    <tr>\n",
       "      <th>0</th>\n",
       "      <td>20</td>\n",
       "      <td>13000000</td>\n",
       "      <td>108.0</td>\n",
       "      <td>2019-03-07</td>\n",
       "      <td>3</td>\n",
       "      <td>2.70</td>\n",
       "      <td>16</td>\n",
       "      <td>83.0</td>\n",
       "      <td>8</td>\n",
       "      <td>False</td>\n",
       "      <td>...</td>\n",
       "      <td>25.0</td>\n",
       "      <td>0</td>\n",
       "      <td>Санкт-Петербург</td>\n",
       "      <td>18863</td>\n",
       "      <td>16028</td>\n",
       "      <td>1</td>\n",
       "      <td>482</td>\n",
       "      <td>2</td>\n",
       "      <td>755</td>\n",
       "      <td>181</td>\n",
       "    </tr>\n",
       "    <tr>\n",
       "      <th>1</th>\n",
       "      <td>7</td>\n",
       "      <td>3350000</td>\n",
       "      <td>40.4</td>\n",
       "      <td>2018-12-04</td>\n",
       "      <td>1</td>\n",
       "      <td>2.69</td>\n",
       "      <td>11</td>\n",
       "      <td>27.4</td>\n",
       "      <td>1</td>\n",
       "      <td>False</td>\n",
       "      <td>...</td>\n",
       "      <td>11.0</td>\n",
       "      <td>2</td>\n",
       "      <td>посёлок Шушары</td>\n",
       "      <td>12817</td>\n",
       "      <td>18603</td>\n",
       "      <td>0</td>\n",
       "      <td>455</td>\n",
       "      <td>0</td>\n",
       "      <td>518</td>\n",
       "      <td>81</td>\n",
       "    </tr>\n",
       "    <tr>\n",
       "      <th>2</th>\n",
       "      <td>10</td>\n",
       "      <td>5196000</td>\n",
       "      <td>56.0</td>\n",
       "      <td>2015-08-20</td>\n",
       "      <td>2</td>\n",
       "      <td>2.69</td>\n",
       "      <td>5</td>\n",
       "      <td>47.7</td>\n",
       "      <td>4</td>\n",
       "      <td>False</td>\n",
       "      <td>...</td>\n",
       "      <td>8.3</td>\n",
       "      <td>0</td>\n",
       "      <td>Санкт-Петербург</td>\n",
       "      <td>21741</td>\n",
       "      <td>13933</td>\n",
       "      <td>1</td>\n",
       "      <td>90</td>\n",
       "      <td>2</td>\n",
       "      <td>574</td>\n",
       "      <td>558</td>\n",
       "    </tr>\n",
       "    <tr>\n",
       "      <th>3</th>\n",
       "      <td>0</td>\n",
       "      <td>64900000</td>\n",
       "      <td>159.0</td>\n",
       "      <td>2015-07-24</td>\n",
       "      <td>3</td>\n",
       "      <td>3.13</td>\n",
       "      <td>14</td>\n",
       "      <td>159.0</td>\n",
       "      <td>9</td>\n",
       "      <td>False</td>\n",
       "      <td>...</td>\n",
       "      <td>0.0</td>\n",
       "      <td>0</td>\n",
       "      <td>Санкт-Петербург</td>\n",
       "      <td>28098</td>\n",
       "      <td>6800</td>\n",
       "      <td>2</td>\n",
       "      <td>84</td>\n",
       "      <td>3</td>\n",
       "      <td>234</td>\n",
       "      <td>424</td>\n",
       "    </tr>\n",
       "    <tr>\n",
       "      <th>4</th>\n",
       "      <td>2</td>\n",
       "      <td>10000000</td>\n",
       "      <td>100.0</td>\n",
       "      <td>2018-06-19</td>\n",
       "      <td>2</td>\n",
       "      <td>3.03</td>\n",
       "      <td>14</td>\n",
       "      <td>59.0</td>\n",
       "      <td>13</td>\n",
       "      <td>False</td>\n",
       "      <td>...</td>\n",
       "      <td>41.0</td>\n",
       "      <td>0</td>\n",
       "      <td>Санкт-Петербург</td>\n",
       "      <td>31856</td>\n",
       "      <td>8098</td>\n",
       "      <td>2</td>\n",
       "      <td>112</td>\n",
       "      <td>1</td>\n",
       "      <td>48</td>\n",
       "      <td>121</td>\n",
       "    </tr>\n",
       "  </tbody>\n",
       "</table>\n",
       "<p>5 rows × 22 columns</p>\n",
       "</div>"
      ],
      "text/plain": [
       "   imgage  last_price  total_s date_exposition  rooms  ceiling_h  floors  \\\n",
       "0      20    13000000    108.0      2019-03-07      3       2.70      16   \n",
       "1       7     3350000     40.4      2018-12-04      1       2.69      11   \n",
       "2      10     5196000     56.0      2015-08-20      2       2.69       5   \n",
       "3       0    64900000    159.0      2015-07-24      3       3.13      14   \n",
       "4       2    10000000    100.0      2018-06-19      2       3.03      14   \n",
       "\n",
       "   living_s  floor  apartment  ...  kitchen_s  balcony        city_name  \\\n",
       "0      83.0      8      False  ...       25.0        0  Санкт-Петербург   \n",
       "1      27.4      1      False  ...       11.0        2   посёлок Шушары   \n",
       "2      47.7      4      False  ...        8.3        0  Санкт-Петербург   \n",
       "3     159.0      9      False  ...        0.0        0  Санкт-Петербург   \n",
       "4      59.0     13      False  ...       41.0        0  Санкт-Петербург   \n",
       "\n",
       "   airport_dist center_dist  parks_3km  parks_m  ponds_3km  ponds_m  \\\n",
       "0         18863       16028          1      482          2      755   \n",
       "1         12817       18603          0      455          0      518   \n",
       "2         21741       13933          1       90          2      574   \n",
       "3         28098        6800          2       84          3      234   \n",
       "4         31856        8098          2      112          1       48   \n",
       "\n",
       "   days_exposition  \n",
       "0              181  \n",
       "1               81  \n",
       "2              558  \n",
       "3              424  \n",
       "4              121  \n",
       "\n",
       "[5 rows x 22 columns]"
      ]
     },
     "execution_count": 15,
     "metadata": {},
     "output_type": "execute_result"
    }
   ],
   "source": [
    "df['date_exposition'] = pd.to_datetime(df['date_exposition'], format='%Y-%m-%d %H:%M:%S')\n",
    "df['floors'] = round(df['floors']).astype('int')\n",
    "df['balcony'] = df['balcony'].astype('int')\n",
    "df['apartment'] = df['apartment'].astype('bool')\n",
    "df['last_price'] = round(df['last_price']).astype('int')\n",
    "df['center_dist'] = df['center_dist'].astype('int')\n",
    "df['airport_dist'] = df['airport_dist'].astype('int')\n",
    "df['parks_3km'] = df['parks_3km'].astype('int')\n",
    "df['ponds_3km'] = df['ponds_3km'].astype('int')\n",
    "df['ponds_m'] = df['ponds_m'].astype('int')\n",
    "df['parks_m'] = df['parks_m'].astype('int')\n",
    "df['days_exposition'] = df['days_exposition'].astype('int')\n",
    "\n",
    "df.head(5)"
   ]
  },
  {
   "cell_type": "code",
   "execution_count": 16,
   "metadata": {},
   "outputs": [
    {
     "name": "stdout",
     "output_type": "stream",
     "text": [
      "<class 'pandas.core.frame.DataFrame'>\n",
      "RangeIndex: 23699 entries, 0 to 23698\n",
      "Data columns (total 22 columns):\n",
      " #   Column           Non-Null Count  Dtype         \n",
      "---  ------           --------------  -----         \n",
      " 0   imgage           23699 non-null  int64         \n",
      " 1   last_price       23699 non-null  int32         \n",
      " 2   total_s          23699 non-null  float64       \n",
      " 3   date_exposition  23699 non-null  datetime64[ns]\n",
      " 4   rooms            23699 non-null  int64         \n",
      " 5   ceiling_h        23699 non-null  float64       \n",
      " 6   floors           23699 non-null  int32         \n",
      " 7   living_s         23699 non-null  float64       \n",
      " 8   floor            23699 non-null  int64         \n",
      " 9   apartment        23699 non-null  bool          \n",
      " 10  studio           23699 non-null  bool          \n",
      " 11  open_plan        23699 non-null  bool          \n",
      " 12  kitchen_s        23699 non-null  float64       \n",
      " 13  balcony          23699 non-null  int32         \n",
      " 14  city_name        23678 non-null  object        \n",
      " 15  airport_dist     23699 non-null  int32         \n",
      " 16  center_dist      23699 non-null  int32         \n",
      " 17  parks_3km        23699 non-null  int32         \n",
      " 18  parks_m          23699 non-null  int32         \n",
      " 19  ponds_3km        23699 non-null  int32         \n",
      " 20  ponds_m          23699 non-null  int32         \n",
      " 21  days_exposition  23699 non-null  int32         \n",
      "dtypes: bool(3), datetime64[ns](1), float64(4), int32(10), int64(3), object(1)\n",
      "memory usage: 2.6+ MB\n"
     ]
    }
   ],
   "source": [
    "df.info()"
   ]
  },
  {
   "cell_type": "markdown",
   "metadata": {},
   "source": [
    "### Шаг 3. Посчитайте и добавьте в таблицу"
   ]
  },
  {
   "cell_type": "markdown",
   "metadata": {},
   "source": [
    "Рассчитаем цену квадратного метра, рузультат добавим в новый столбец. Заранее округлим и уберем дробную часть:"
   ]
  },
  {
   "cell_type": "code",
   "execution_count": 17,
   "metadata": {},
   "outputs": [
    {
     "data": {
      "text/html": [
       "<div>\n",
       "<style scoped>\n",
       "    .dataframe tbody tr th:only-of-type {\n",
       "        vertical-align: middle;\n",
       "    }\n",
       "\n",
       "    .dataframe tbody tr th {\n",
       "        vertical-align: top;\n",
       "    }\n",
       "\n",
       "    .dataframe thead th {\n",
       "        text-align: right;\n",
       "    }\n",
       "</style>\n",
       "<table border=\"1\" class=\"dataframe\">\n",
       "  <thead>\n",
       "    <tr style=\"text-align: right;\">\n",
       "      <th></th>\n",
       "      <th>total_s</th>\n",
       "      <th>last_price</th>\n",
       "      <th>price_meter</th>\n",
       "    </tr>\n",
       "  </thead>\n",
       "  <tbody>\n",
       "    <tr>\n",
       "      <th>0</th>\n",
       "      <td>108.0</td>\n",
       "      <td>13000000</td>\n",
       "      <td>120370</td>\n",
       "    </tr>\n",
       "    <tr>\n",
       "      <th>1</th>\n",
       "      <td>40.4</td>\n",
       "      <td>3350000</td>\n",
       "      <td>82921</td>\n",
       "    </tr>\n",
       "    <tr>\n",
       "      <th>2</th>\n",
       "      <td>56.0</td>\n",
       "      <td>5196000</td>\n",
       "      <td>92786</td>\n",
       "    </tr>\n",
       "    <tr>\n",
       "      <th>3</th>\n",
       "      <td>159.0</td>\n",
       "      <td>64900000</td>\n",
       "      <td>408176</td>\n",
       "    </tr>\n",
       "    <tr>\n",
       "      <th>4</th>\n",
       "      <td>100.0</td>\n",
       "      <td>10000000</td>\n",
       "      <td>100000</td>\n",
       "    </tr>\n",
       "  </tbody>\n",
       "</table>\n",
       "</div>"
      ],
      "text/plain": [
       "   total_s  last_price  price_meter\n",
       "0    108.0    13000000       120370\n",
       "1     40.4     3350000        82921\n",
       "2     56.0     5196000        92786\n",
       "3    159.0    64900000       408176\n",
       "4    100.0    10000000       100000"
      ]
     },
     "execution_count": 17,
     "metadata": {},
     "output_type": "execute_result"
    }
   ],
   "source": [
    "df['price_meter'] = round(df['last_price'] / df['total_s']).astype('int')\n",
    "df.loc[:, ['total_s', 'last_price', 'price_meter']].head(5)"
   ]
  },
  {
   "cell_type": "markdown",
   "metadata": {},
   "source": [
    "Рассчитаем день недели, месяц и год публикации объявления. Определим день недели методом .weekday(), скорректируем полученную цифру на +1 для приведения к правильному исчению по российскому стандарту. Затем получеим срез строки из имеющейся даты, в из которой возьмем год и месяц и переставим их местами. Номеру недели присвоим сокращение из словаря. И полученный результат склеим вместе:"
   ]
  },
  {
   "cell_type": "code",
   "execution_count": 18,
   "metadata": {},
   "outputs": [
    {
     "data": {
      "text/html": [
       "<div>\n",
       "<style scoped>\n",
       "    .dataframe tbody tr th:only-of-type {\n",
       "        vertical-align: middle;\n",
       "    }\n",
       "\n",
       "    .dataframe tbody tr th {\n",
       "        vertical-align: top;\n",
       "    }\n",
       "\n",
       "    .dataframe thead th {\n",
       "        text-align: right;\n",
       "    }\n",
       "</style>\n",
       "<table border=\"1\" class=\"dataframe\">\n",
       "  <thead>\n",
       "    <tr style=\"text-align: right;\">\n",
       "      <th></th>\n",
       "      <th>date_exposition</th>\n",
       "      <th>day_week</th>\n",
       "      <th>weekday</th>\n",
       "      <th>month</th>\n",
       "      <th>year</th>\n",
       "    </tr>\n",
       "  </thead>\n",
       "  <tbody>\n",
       "    <tr>\n",
       "      <th>0</th>\n",
       "      <td>2019-03-07</td>\n",
       "      <td>Чт, 03.2019</td>\n",
       "      <td>4</td>\n",
       "      <td>3</td>\n",
       "      <td>2019</td>\n",
       "    </tr>\n",
       "    <tr>\n",
       "      <th>1</th>\n",
       "      <td>2018-12-04</td>\n",
       "      <td>Вт, 12.2018</td>\n",
       "      <td>2</td>\n",
       "      <td>12</td>\n",
       "      <td>2018</td>\n",
       "    </tr>\n",
       "    <tr>\n",
       "      <th>2</th>\n",
       "      <td>2015-08-20</td>\n",
       "      <td>Чт, 08.2015</td>\n",
       "      <td>4</td>\n",
       "      <td>8</td>\n",
       "      <td>2015</td>\n",
       "    </tr>\n",
       "    <tr>\n",
       "      <th>3</th>\n",
       "      <td>2015-07-24</td>\n",
       "      <td>Пт, 07.2015</td>\n",
       "      <td>5</td>\n",
       "      <td>7</td>\n",
       "      <td>2015</td>\n",
       "    </tr>\n",
       "    <tr>\n",
       "      <th>4</th>\n",
       "      <td>2018-06-19</td>\n",
       "      <td>Вт, 06.2018</td>\n",
       "      <td>2</td>\n",
       "      <td>6</td>\n",
       "      <td>2018</td>\n",
       "    </tr>\n",
       "  </tbody>\n",
       "</table>\n",
       "</div>"
      ],
      "text/plain": [
       "  date_exposition     day_week  weekday  month  year\n",
       "0      2019-03-07  Чт, 03.2019        4      3  2019\n",
       "1      2018-12-04  Вт, 12.2018        2     12  2018\n",
       "2      2015-08-20  Чт, 08.2015        4      8  2015\n",
       "3      2015-07-24  Пт, 07.2015        5      7  2015\n",
       "4      2018-06-19  Вт, 06.2018        2      6  2018"
      ]
     },
     "execution_count": 18,
     "metadata": {},
     "output_type": "execute_result"
    }
   ],
   "source": [
    "day_weeks = {1: 'Пн', 2: 'Вт', 3: 'Ср', 4: 'Чт', 5: 'Пт', 6: 'Сб', 7: 'Вс'}\n",
    "\n",
    "def from_datetime64_to_str_and_back(row):\n",
    "    dayweek = row['date_exposition'].weekday()+1       # приведение номера недели к российскому стандарту методом .weekday()\n",
    "    slice_date = str(row['date_exposition'])[:7]       # получение нужного среза из даты из таблицы\n",
    "    slice_date = f'{slice_date[5:7]}.{slice_date[:4]}' # образование новой строки путем перестановки года и месяца\n",
    "    for i_weekday in day_weeks:                        # для каждого номера в слоавре\n",
    "        if dayweek == i_weekday:                       # если номер недели из таблицы равен итерируемому номеру в словаре\n",
    "            dayweek = day_weeks[i_weekday]             # то мы из словаря извлекаем сокращенное название дня недели\n",
    "    new_date = f'{dayweek}, {slice_date}'              # формируем новую строку дня недели, месяца и года\n",
    "    return new_date\n",
    "\n",
    "def day(row):\n",
    "    weekday = row['date_exposition'].weekday()+1\n",
    "    return weekday\n",
    "\n",
    "def month(row):\n",
    "    month = row['date_exposition'].month\n",
    "    return month\n",
    "\n",
    "def year(row):\n",
    "    year = row['date_exposition'].year\n",
    "    return year\n",
    "\n",
    "df['year'] = df.apply(year, axis=1) # заносим отдельно номер года\n",
    "df['month'] = df.apply(month, axis=1) # заносим отдельно номер месяца\n",
    "df['weekday'] = df.apply(day, axis=1) # заносим отдельно номер дня недели\n",
    "df['day_week'] = df.apply(from_datetime64_to_str_and_back, axis=1) # разносим по таблице в новый столбец в соотв-ю строку\n",
    "df.loc[:, ['date_exposition', 'day_week', 'weekday', 'month', 'year']].head(5)"
   ]
  },
  {
   "cell_type": "markdown",
   "metadata": {},
   "source": [
    "Рассчитаем этаж квартиры; варианты — первый, последний, другой:"
   ]
  },
  {
   "cell_type": "code",
   "execution_count": 19,
   "metadata": {},
   "outputs": [
    {
     "data": {
      "text/html": [
       "<div>\n",
       "<style scoped>\n",
       "    .dataframe tbody tr th:only-of-type {\n",
       "        vertical-align: middle;\n",
       "    }\n",
       "\n",
       "    .dataframe tbody tr th {\n",
       "        vertical-align: top;\n",
       "    }\n",
       "\n",
       "    .dataframe thead th {\n",
       "        text-align: right;\n",
       "    }\n",
       "</style>\n",
       "<table border=\"1\" class=\"dataframe\">\n",
       "  <thead>\n",
       "    <tr style=\"text-align: right;\">\n",
       "      <th></th>\n",
       "      <th>floor</th>\n",
       "      <th>floors</th>\n",
       "      <th>floor_level</th>\n",
       "    </tr>\n",
       "  </thead>\n",
       "  <tbody>\n",
       "    <tr>\n",
       "      <th>0</th>\n",
       "      <td>8</td>\n",
       "      <td>16</td>\n",
       "      <td>Другой</td>\n",
       "    </tr>\n",
       "    <tr>\n",
       "      <th>1</th>\n",
       "      <td>1</td>\n",
       "      <td>11</td>\n",
       "      <td>Первый</td>\n",
       "    </tr>\n",
       "    <tr>\n",
       "      <th>2</th>\n",
       "      <td>4</td>\n",
       "      <td>5</td>\n",
       "      <td>Другой</td>\n",
       "    </tr>\n",
       "    <tr>\n",
       "      <th>3</th>\n",
       "      <td>9</td>\n",
       "      <td>14</td>\n",
       "      <td>Другой</td>\n",
       "    </tr>\n",
       "    <tr>\n",
       "      <th>4</th>\n",
       "      <td>13</td>\n",
       "      <td>14</td>\n",
       "      <td>Другой</td>\n",
       "    </tr>\n",
       "  </tbody>\n",
       "</table>\n",
       "</div>"
      ],
      "text/plain": [
       "   floor  floors floor_level\n",
       "0      8      16      Другой\n",
       "1      1      11      Первый\n",
       "2      4       5      Другой\n",
       "3      9      14      Другой\n",
       "4     13      14      Другой"
      ]
     },
     "execution_count": 19,
     "metadata": {},
     "output_type": "execute_result"
    }
   ],
   "source": [
    "def detect_floor_level(row): # напишем словами для понимания человеком\n",
    "    if row['floors'] == row['floor']:\n",
    "        return 'Последний'\n",
    "    if row['floor'] == 1:\n",
    "        return 'Первый'\n",
    "    else:\n",
    "        return 'Другой'    \n",
    "    \n",
    "df['floor_level'] = df.apply(detect_floor_level, axis=1)\n",
    "df.loc[:,['floor', 'floors', 'floor_level']].head(5)"
   ]
  },
  {
   "cell_type": "markdown",
   "metadata": {},
   "source": [
    "Рассчитаем соотношение жилой и общей площади, а также отношение площади кухни к общей:"
   ]
  },
  {
   "cell_type": "code",
   "execution_count": 20,
   "metadata": {},
   "outputs": [
    {
     "data": {
      "text/html": [
       "<div>\n",
       "<style scoped>\n",
       "    .dataframe tbody tr th:only-of-type {\n",
       "        vertical-align: middle;\n",
       "    }\n",
       "\n",
       "    .dataframe tbody tr th {\n",
       "        vertical-align: top;\n",
       "    }\n",
       "\n",
       "    .dataframe thead th {\n",
       "        text-align: right;\n",
       "    }\n",
       "</style>\n",
       "<table border=\"1\" class=\"dataframe\">\n",
       "  <thead>\n",
       "    <tr style=\"text-align: right;\">\n",
       "      <th></th>\n",
       "      <th>total_s</th>\n",
       "      <th>living_s</th>\n",
       "      <th>living_%</th>\n",
       "      <th>kitchen_s</th>\n",
       "      <th>kitchen_%</th>\n",
       "    </tr>\n",
       "  </thead>\n",
       "  <tbody>\n",
       "    <tr>\n",
       "      <th>0</th>\n",
       "      <td>108.0</td>\n",
       "      <td>83.0</td>\n",
       "      <td>0.77</td>\n",
       "      <td>25.0</td>\n",
       "      <td>0.23</td>\n",
       "    </tr>\n",
       "    <tr>\n",
       "      <th>1</th>\n",
       "      <td>40.4</td>\n",
       "      <td>27.4</td>\n",
       "      <td>0.68</td>\n",
       "      <td>11.0</td>\n",
       "      <td>0.27</td>\n",
       "    </tr>\n",
       "    <tr>\n",
       "      <th>2</th>\n",
       "      <td>56.0</td>\n",
       "      <td>47.7</td>\n",
       "      <td>0.85</td>\n",
       "      <td>8.3</td>\n",
       "      <td>0.15</td>\n",
       "    </tr>\n",
       "    <tr>\n",
       "      <th>3</th>\n",
       "      <td>159.0</td>\n",
       "      <td>159.0</td>\n",
       "      <td>1.00</td>\n",
       "      <td>0.0</td>\n",
       "      <td>0.00</td>\n",
       "    </tr>\n",
       "    <tr>\n",
       "      <th>4</th>\n",
       "      <td>100.0</td>\n",
       "      <td>59.0</td>\n",
       "      <td>0.59</td>\n",
       "      <td>41.0</td>\n",
       "      <td>0.41</td>\n",
       "    </tr>\n",
       "  </tbody>\n",
       "</table>\n",
       "</div>"
      ],
      "text/plain": [
       "   total_s  living_s  living_%  kitchen_s  kitchen_%\n",
       "0    108.0      83.0      0.77       25.0       0.23\n",
       "1     40.4      27.4      0.68       11.0       0.27\n",
       "2     56.0      47.7      0.85        8.3       0.15\n",
       "3    159.0     159.0      1.00        0.0       0.00\n",
       "4    100.0      59.0      0.59       41.0       0.41"
      ]
     },
     "execution_count": 20,
     "metadata": {},
     "output_type": "execute_result"
    }
   ],
   "source": [
    "df['living_%']=round(df['living_s'] / df['total_s'], 2)\n",
    "df['kitchen_%']=round(df['kitchen_s'] / df['total_s'], 2)\n",
    "df.loc[:, ['total_s', 'living_s', 'living_%', 'kitchen_s', 'kitchen_%']].head(5)"
   ]
  },
  {
   "cell_type": "markdown",
   "metadata": {},
   "source": [
    "### Шаг 4. Проведите исследовательский анализ данных и выполните инструкции:"
   ]
  },
  {
   "cell_type": "markdown",
   "metadata": {},
   "source": [
    "Изучим: площадь, цена, число комнат, высота потолков. **Для начала к выбранным столбцам применим метод .describe()**, для получения минимальных и максимальных значений и общего представления. А затем построим гистограммы для каждого параметра и своевременно уберем редкие и выбивающиеся значения."
   ]
  },
  {
   "cell_type": "code",
   "execution_count": 21,
   "metadata": {},
   "outputs": [
    {
     "data": {
      "text/html": [
       "<div>\n",
       "<style scoped>\n",
       "    .dataframe tbody tr th:only-of-type {\n",
       "        vertical-align: middle;\n",
       "    }\n",
       "\n",
       "    .dataframe tbody tr th {\n",
       "        vertical-align: top;\n",
       "    }\n",
       "\n",
       "    .dataframe thead th {\n",
       "        text-align: right;\n",
       "    }\n",
       "</style>\n",
       "<table border=\"1\" class=\"dataframe\">\n",
       "  <thead>\n",
       "    <tr style=\"text-align: right;\">\n",
       "      <th></th>\n",
       "      <th>total_s</th>\n",
       "      <th>last_price</th>\n",
       "      <th>rooms</th>\n",
       "      <th>ceiling_h</th>\n",
       "    </tr>\n",
       "  </thead>\n",
       "  <tbody>\n",
       "    <tr>\n",
       "      <th>count</th>\n",
       "      <td>23699.000000</td>\n",
       "      <td>2.369900e+04</td>\n",
       "      <td>23699.000000</td>\n",
       "      <td>23699.000000</td>\n",
       "    </tr>\n",
       "    <tr>\n",
       "      <th>mean</th>\n",
       "      <td>60.348651</td>\n",
       "      <td>6.541549e+06</td>\n",
       "      <td>2.070636</td>\n",
       "      <td>2.766725</td>\n",
       "    </tr>\n",
       "    <tr>\n",
       "      <th>std</th>\n",
       "      <td>35.654083</td>\n",
       "      <td>1.088701e+07</td>\n",
       "      <td>1.078405</td>\n",
       "      <td>0.991574</td>\n",
       "    </tr>\n",
       "    <tr>\n",
       "      <th>min</th>\n",
       "      <td>12.000000</td>\n",
       "      <td>1.219000e+04</td>\n",
       "      <td>0.000000</td>\n",
       "      <td>1.000000</td>\n",
       "    </tr>\n",
       "    <tr>\n",
       "      <th>25%</th>\n",
       "      <td>40.000000</td>\n",
       "      <td>3.400000e+06</td>\n",
       "      <td>1.000000</td>\n",
       "      <td>2.600000</td>\n",
       "    </tr>\n",
       "    <tr>\n",
       "      <th>50%</th>\n",
       "      <td>52.000000</td>\n",
       "      <td>4.650000e+06</td>\n",
       "      <td>2.000000</td>\n",
       "      <td>2.690000</td>\n",
       "    </tr>\n",
       "    <tr>\n",
       "      <th>75%</th>\n",
       "      <td>69.900000</td>\n",
       "      <td>6.800000e+06</td>\n",
       "      <td>3.000000</td>\n",
       "      <td>2.750000</td>\n",
       "    </tr>\n",
       "    <tr>\n",
       "      <th>max</th>\n",
       "      <td>900.000000</td>\n",
       "      <td>7.630000e+08</td>\n",
       "      <td>19.000000</td>\n",
       "      <td>100.000000</td>\n",
       "    </tr>\n",
       "  </tbody>\n",
       "</table>\n",
       "</div>"
      ],
      "text/plain": [
       "            total_s    last_price         rooms     ceiling_h\n",
       "count  23699.000000  2.369900e+04  23699.000000  23699.000000\n",
       "mean      60.348651  6.541549e+06      2.070636      2.766725\n",
       "std       35.654083  1.088701e+07      1.078405      0.991574\n",
       "min       12.000000  1.219000e+04      0.000000      1.000000\n",
       "25%       40.000000  3.400000e+06      1.000000      2.600000\n",
       "50%       52.000000  4.650000e+06      2.000000      2.690000\n",
       "75%       69.900000  6.800000e+06      3.000000      2.750000\n",
       "max      900.000000  7.630000e+08     19.000000    100.000000"
      ]
     },
     "execution_count": 21,
     "metadata": {},
     "output_type": "execute_result"
    }
   ],
   "source": [
    "df.loc[:, ['total_s', 'last_price', 'rooms', 'ceiling_h']].describe()"
   ]
  },
  {
   "cell_type": "markdown",
   "metadata": {},
   "source": [
    "Теперь рассмотрим выбивающиеся значения **общей площади**."
   ]
  },
  {
   "cell_type": "code",
   "execution_count": 22,
   "metadata": {},
   "outputs": [
    {
     "data": {
      "image/png": "[encoded data removed]",
      "text/plain": [
       "<Figure size 1080x360 with 1 Axes>"
      ]
     },
     "metadata": {
      "needs_background": "light"
     },
     "output_type": "display_data"
    }
   ],
   "source": [
    "df.total_s.hist(bins=70, figsize=(15, 5))\n",
    "plt.xlabel('Общая площадь х кв.м.', fontsize=12)\n",
    "plt.ylabel('Объем')\n",
    "plt.show()"
   ]
  },
  {
   "cell_type": "code",
   "execution_count": 23,
   "metadata": {},
   "outputs": [
    {
     "data": {
      "image/png": "[encoded data removed]",
      "text/plain": [
       "<Figure size 1080x360 with 1 Axes>"
      ]
     },
     "metadata": {
      "needs_background": "light"
     },
     "output_type": "display_data"
    }
   ],
   "source": [
    "df['total_s'].hist(bins=70, range=(15,120), figsize=(15, 5)) # та же диаграмма с ограниченями диапазона\n",
    "plt.xlabel('Общая площадь', fontsize=12)\n",
    "plt.ylabel('Объем')\n",
    "plt.show()"
   ]
  },
  {
   "cell_type": "code",
   "execution_count": 24,
   "metadata": {},
   "outputs": [
    {
     "data": {
      "image/png": "[encoded data removed]",
      "text/plain": [
       "<Figure size 432x288 with 1 Axes>"
      ]
     },
     "metadata": {
      "needs_background": "light"
     },
     "output_type": "display_data"
    }
   ],
   "source": [
    "df.boxplot(['total_s'])\n",
    "plt.show()"
   ]
  },
  {
   "cell_type": "markdown",
   "metadata": {},
   "source": [
    "Изучим более пристально квартиры с площадью более 580 квадратов."
   ]
  },
  {
   "cell_type": "code",
   "execution_count": 25,
   "metadata": {},
   "outputs": [
    {
     "data": {
      "text/html": [
       "<div>\n",
       "<style scoped>\n",
       "    .dataframe tbody tr th:only-of-type {\n",
       "        vertical-align: middle;\n",
       "    }\n",
       "\n",
       "    .dataframe tbody tr th {\n",
       "        vertical-align: top;\n",
       "    }\n",
       "\n",
       "    .dataframe thead th {\n",
       "        text-align: right;\n",
       "    }\n",
       "</style>\n",
       "<table border=\"1\" class=\"dataframe\">\n",
       "  <thead>\n",
       "    <tr style=\"text-align: right;\">\n",
       "      <th></th>\n",
       "      <th>total_s</th>\n",
       "      <th>last_price</th>\n",
       "      <th>price_meter</th>\n",
       "      <th>living_s</th>\n",
       "      <th>living_%</th>\n",
       "      <th>rooms</th>\n",
       "      <th>mean_room_square</th>\n",
       "      <th>kitchen_s</th>\n",
       "      <th>kitchen_%</th>\n",
       "    </tr>\n",
       "  </thead>\n",
       "  <tbody>\n",
       "    <tr>\n",
       "      <th>3117</th>\n",
       "      <td>631.0</td>\n",
       "      <td>140000000</td>\n",
       "      <td>221870</td>\n",
       "      <td>571.0</td>\n",
       "      <td>0.90</td>\n",
       "      <td>7</td>\n",
       "      <td>81.571429</td>\n",
       "      <td>60.0</td>\n",
       "      <td>0.10</td>\n",
       "    </tr>\n",
       "    <tr>\n",
       "      <th>5358</th>\n",
       "      <td>590.0</td>\n",
       "      <td>65000000</td>\n",
       "      <td>110169</td>\n",
       "      <td>490.0</td>\n",
       "      <td>0.83</td>\n",
       "      <td>15</td>\n",
       "      <td>32.666667</td>\n",
       "      <td>100.0</td>\n",
       "      <td>0.17</td>\n",
       "    </tr>\n",
       "    <tr>\n",
       "      <th>12859</th>\n",
       "      <td>631.2</td>\n",
       "      <td>140000000</td>\n",
       "      <td>221800</td>\n",
       "      <td>610.7</td>\n",
       "      <td>0.97</td>\n",
       "      <td>7</td>\n",
       "      <td>87.385714</td>\n",
       "      <td>19.5</td>\n",
       "      <td>0.03</td>\n",
       "    </tr>\n",
       "    <tr>\n",
       "      <th>15651</th>\n",
       "      <td>618.0</td>\n",
       "      <td>300000000</td>\n",
       "      <td>485437</td>\n",
       "      <td>548.0</td>\n",
       "      <td>0.89</td>\n",
       "      <td>7</td>\n",
       "      <td>78.285714</td>\n",
       "      <td>70.0</td>\n",
       "      <td>0.11</td>\n",
       "    </tr>\n",
       "    <tr>\n",
       "      <th>19540</th>\n",
       "      <td>900.0</td>\n",
       "      <td>420000000</td>\n",
       "      <td>466667</td>\n",
       "      <td>788.0</td>\n",
       "      <td>0.88</td>\n",
       "      <td>12</td>\n",
       "      <td>65.666667</td>\n",
       "      <td>112.0</td>\n",
       "      <td>0.12</td>\n",
       "    </tr>\n",
       "  </tbody>\n",
       "</table>\n",
       "</div>"
      ],
      "text/plain": [
       "       total_s  last_price  price_meter  living_s  living_%  rooms  \\\n",
       "3117     631.0   140000000       221870     571.0      0.90      7   \n",
       "5358     590.0    65000000       110169     490.0      0.83     15   \n",
       "12859    631.2   140000000       221800     610.7      0.97      7   \n",
       "15651    618.0   300000000       485437     548.0      0.89      7   \n",
       "19540    900.0   420000000       466667     788.0      0.88     12   \n",
       "\n",
       "       mean_room_square  kitchen_s  kitchen_%  \n",
       "3117          81.571429       60.0       0.10  \n",
       "5358          32.666667      100.0       0.17  \n",
       "12859         87.385714       19.5       0.03  \n",
       "15651         78.285714       70.0       0.11  \n",
       "19540         65.666667      112.0       0.12  "
      ]
     },
     "execution_count": 25,
     "metadata": {},
     "output_type": "execute_result"
    }
   ],
   "source": [
    "df['mean_room_square'] = (df['total_s'] - df['kitchen_s']) / df['rooms'] # определим средний размер жилой комнаты\n",
    "\n",
    "more_580meters = df[df['total_s'] >= 580] # сделаем выборку квартир более 580 метров и упорядочим столбцы\n",
    "more_580meters[['total_s', 'last_price', 'price_meter', 'living_s', 'living_%', 'rooms', 'mean_room_square', 'kitchen_s', 'kitchen_%']]"
   ]
  },
  {
   "cell_type": "markdown",
   "metadata": {},
   "source": [
    "На гистограмме мы видим распределение Пауссона. Чаще всего продают квартитры с примерным метражом в 60 метров. Значения общей площади менее 25 метров и свыше 110 кв.м. следует считать редкими значениями: объявлений о продаже таких квартир за 5 лет наблюдейний менее 100 штук (0,4%). Данная гистограмма имеет длинный хвост вправо (от 110 до 900 кв.метров).\n",
    "**Выбивающиеся значения обнаружены на уровне 900 кв**. метров. Значения в 590-650 метров предлагаем считать в пределах рыночных значений."
   ]
  },
  {
   "cell_type": "markdown",
   "metadata": {},
   "source": [
    "Теперь определим выбивающиеся значения **цены** на продаваемую недвижимость. (значения по оси х обозначают десятки млн)"
   ]
  },
  {
   "cell_type": "code",
   "execution_count": 26,
   "metadata": {},
   "outputs": [
    {
     "data": {
      "image/png": "[encoded data removed]",
      "text/plain": [
       "<Figure size 1080x360 with 1 Axes>"
      ]
     },
     "metadata": {
      "needs_background": "light"
     },
     "output_type": "display_data"
    }
   ],
   "source": [
    "df['last_price'].hist(bins=70, figsize=(15, 5))\n",
    "plt.xlabel('Стоимость жилья x10 млн.')\n",
    "plt.ylabel('Объем')\n",
    "plt.show()"
   ]
  },
  {
   "cell_type": "code",
   "execution_count": 27,
   "metadata": {},
   "outputs": [
    {
     "data": {
      "image/png": "[encoded data removed]",
      "text/plain": [
       "<Figure size 1080x360 with 1 Axes>"
      ]
     },
     "metadata": {
      "needs_background": "light"
     },
     "output_type": "display_data"
    }
   ],
   "source": [
    "df['last_price'].hist(bins=70, figsize=(15, 5), range=(0,10000000)) # средневзвешенная гистограмма с ограничением диапазона цены\n",
    "plt.xlabel('Стоимость жилья x10 млн.', fontsize=12)\n",
    "plt.ylabel('Объем')\n",
    "plt.show()"
   ]
  },
  {
   "cell_type": "code",
   "execution_count": 28,
   "metadata": {},
   "outputs": [
    {
     "data": {
      "image/png": "[encoded data removed]",
      "text/plain": [
       "<Figure size 432x288 with 1 Axes>"
      ]
     },
     "metadata": {
      "needs_background": "light"
     },
     "output_type": "display_data"
    }
   ],
   "source": [
    "df.boxplot(['last_price']) # опредление выбивающихся значений\n",
    "plt.show()"
   ]
  },
  {
   "cell_type": "code",
   "execution_count": 29,
   "metadata": {},
   "outputs": [
    {
     "name": "stdout",
     "output_type": "stream",
     "text": [
      "Медианное значение цены на квартиру в СПБ и ЛО составляет 4.65 млн.руб.\n"
     ]
    }
   ],
   "source": [
    "print(f'Медианное значение цены на квартиру в СПБ и ЛО составляет {round(df[\"last_price\"].median()) / 1000000} млн.руб.')"
   ]
  },
  {
   "cell_type": "markdown",
   "metadata": {},
   "source": [
    "Гистограмма имеет распределение Пауссона, но мы отсекли длинный правый хвост, значения которого достигают 763 млн.руб. за кв. Значения **менее 500 тыс. и свыше 4,5 млн руб. (в частности 75-80 млн за квартиру) следует считать выбивающимися значениями.**"
   ]
  },
  {
   "cell_type": "markdown",
   "metadata": {
    "collapsed": true
   },
   "source": [
    " Теперь определим выбивающиеся значения **количества комнат.**"
   ]
  },
  {
   "cell_type": "code",
   "execution_count": 30,
   "metadata": {},
   "outputs": [
    {
     "data": {
      "image/png": "[encoded data removed]",
      "text/plain": [
       "<Figure size 1080x360 with 1 Axes>"
      ]
     },
     "metadata": {
      "needs_background": "light"
     },
     "output_type": "display_data"
    }
   ],
   "source": [
    "df['rooms'].hist(bins=40, figsize=(15, 5), range=(0,20)) # общая  гистограмма\n",
    "plt.xlabel('количество комнат без ограничения диапазона', fontsize=12)\n",
    "plt.ylabel('Объем')\n",
    "plt.show()"
   ]
  },
  {
   "cell_type": "code",
   "execution_count": 31,
   "metadata": {},
   "outputs": [
    {
     "data": {
      "image/png": "[encoded data removed]",
      "text/plain": [
       "<Figure size 504x360 with 1 Axes>"
      ]
     },
     "metadata": {
      "needs_background": "light"
     },
     "output_type": "display_data"
    }
   ],
   "source": [
    "df['rooms'].hist(bins=10, figsize=(7, 5), range=(0,5)) # общая  гистограмма\n",
    "plt.xlabel('количество комнат с ограничением диапазона', fontsize=12)\n",
    "plt.ylabel('Объем')\n",
    "plt.show()"
   ]
  },
  {
   "cell_type": "code",
   "execution_count": 32,
   "metadata": {},
   "outputs": [
    {
     "data": {
      "text/plain": [
       "<AxesSubplot:>"
      ]
     },
     "execution_count": 32,
     "metadata": {},
     "output_type": "execute_result"
    },
    {
     "data": {
      "image/png": "[encoded data removed]",
      "text/plain": [
       "<Figure size 432x288 with 1 Axes>"
      ]
     },
     "metadata": {
      "needs_background": "light"
     },
     "output_type": "display_data"
    }
   ],
   "source": [
    "df.boxplot(['rooms'])"
   ]
  },
  {
   "cell_type": "markdown",
   "metadata": {},
   "source": [
    "Чаще всего в СПб и ЛО продают 1-3 комнатные квартиры. Значения в объявлении в 0 комнат и свыше 4 комнат следует считать выбивающимися значениями: Таких объявлений менее 500 штук ( менее 2%). Хвост право на гистограмме достигает 19 комнат. Причина указания нулевого количества комнат - неизвестна. Вероятно, это либо комерческое помещени, либо квартира-студия, либо продавец не захотел указывать количество комнат. Для определения выбивающихся значений, попробуем более детально изучить квартиры с колчиеством комнат более 13."
   ]
  },
  {
   "cell_type": "code",
   "execution_count": 33,
   "metadata": {},
   "outputs": [
    {
     "data": {
      "text/html": [
       "<div>\n",
       "<style scoped>\n",
       "    .dataframe tbody tr th:only-of-type {\n",
       "        vertical-align: middle;\n",
       "    }\n",
       "\n",
       "    .dataframe tbody tr th {\n",
       "        vertical-align: top;\n",
       "    }\n",
       "\n",
       "    .dataframe thead th {\n",
       "        text-align: right;\n",
       "    }\n",
       "</style>\n",
       "<table border=\"1\" class=\"dataframe\">\n",
       "  <thead>\n",
       "    <tr style=\"text-align: right;\">\n",
       "      <th></th>\n",
       "      <th>last_price</th>\n",
       "      <th>price_meter</th>\n",
       "      <th>total_s</th>\n",
       "      <th>living_s</th>\n",
       "      <th>living_%</th>\n",
       "      <th>rooms</th>\n",
       "      <th>mean_room_square</th>\n",
       "      <th>kitchen_s</th>\n",
       "      <th>kitchen_%</th>\n",
       "    </tr>\n",
       "  </thead>\n",
       "  <tbody>\n",
       "    <tr>\n",
       "      <th>866</th>\n",
       "      <td>25000000</td>\n",
       "      <td>68871</td>\n",
       "      <td>363.0</td>\n",
       "      <td>346.4</td>\n",
       "      <td>0.95</td>\n",
       "      <td>14</td>\n",
       "      <td>24.742857</td>\n",
       "      <td>16.6</td>\n",
       "      <td>0.05</td>\n",
       "    </tr>\n",
       "    <tr>\n",
       "      <th>5358</th>\n",
       "      <td>65000000</td>\n",
       "      <td>110169</td>\n",
       "      <td>590.0</td>\n",
       "      <td>490.0</td>\n",
       "      <td>0.83</td>\n",
       "      <td>15</td>\n",
       "      <td>32.666667</td>\n",
       "      <td>100.0</td>\n",
       "      <td>0.17</td>\n",
       "    </tr>\n",
       "    <tr>\n",
       "      <th>14498</th>\n",
       "      <td>32250000</td>\n",
       "      <td>86092</td>\n",
       "      <td>374.6</td>\n",
       "      <td>347.0</td>\n",
       "      <td>0.93</td>\n",
       "      <td>19</td>\n",
       "      <td>18.263158</td>\n",
       "      <td>27.6</td>\n",
       "      <td>0.07</td>\n",
       "    </tr>\n",
       "    <tr>\n",
       "      <th>18848</th>\n",
       "      <td>28500000</td>\n",
       "      <td>105556</td>\n",
       "      <td>270.0</td>\n",
       "      <td>256.0</td>\n",
       "      <td>0.95</td>\n",
       "      <td>16</td>\n",
       "      <td>16.062500</td>\n",
       "      <td>13.0</td>\n",
       "      <td>0.05</td>\n",
       "    </tr>\n",
       "    <tr>\n",
       "      <th>20829</th>\n",
       "      <td>28659000</td>\n",
       "      <td>116785</td>\n",
       "      <td>245.4</td>\n",
       "      <td>219.5</td>\n",
       "      <td>0.89</td>\n",
       "      <td>14</td>\n",
       "      <td>15.678571</td>\n",
       "      <td>25.9</td>\n",
       "      <td>0.11</td>\n",
       "    </tr>\n",
       "  </tbody>\n",
       "</table>\n",
       "</div>"
      ],
      "text/plain": [
       "       last_price  price_meter  total_s  living_s  living_%  rooms  \\\n",
       "866      25000000        68871    363.0     346.4      0.95     14   \n",
       "5358     65000000       110169    590.0     490.0      0.83     15   \n",
       "14498    32250000        86092    374.6     347.0      0.93     19   \n",
       "18848    28500000       105556    270.0     256.0      0.95     16   \n",
       "20829    28659000       116785    245.4     219.5      0.89     14   \n",
       "\n",
       "       mean_room_square  kitchen_s  kitchen_%  \n",
       "866           24.742857       16.6       0.05  \n",
       "5358          32.666667      100.0       0.17  \n",
       "14498         18.263158       27.6       0.07  \n",
       "18848         16.062500       13.0       0.05  \n",
       "20829         15.678571       25.9       0.11  "
      ]
     },
     "execution_count": 33,
     "metadata": {},
     "output_type": "execute_result"
    }
   ],
   "source": [
    "more_13rooms = df[df['rooms'] >= 13]\n",
    "more_13rooms[['last_price', 'price_meter', 'total_s', 'living_s', 'living_%', 'rooms', 'mean_room_square', 'kitchen_s', 'kitchen_%']]\n"
   ]
  },
  {
   "cell_type": "markdown",
   "metadata": {},
   "source": [
    "Можем предположить, что **выбивающимся значением можно считать 19 комнат**, однако учитывая среднюю площадь комнат и общую площадь, можно сделать вывод, что все в пределах рыночных вероятных значений. Однако, **конкретного вывода на этот счет сделать не удалось.**"
   ]
  },
  {
   "cell_type": "markdown",
   "metadata": {},
   "source": [
    "Изучим **время продажи квартиры**. Построим гистограмму. Посчитаем среднее и медиану. Опишем, сколько обычно занимает продажа. Когда можно считать, что продажи прошли очень быстро, а когда необычно долго."
   ]
  },
  {
   "cell_type": "code",
   "execution_count": 34,
   "metadata": {},
   "outputs": [
    {
     "data": {
      "image/png": "[encoded data removed]",
      "text/plain": [
       "<Figure size 1080x360 with 1 Axes>"
      ]
     },
     "metadata": {
      "needs_background": "light"
     },
     "output_type": "display_data"
    }
   ],
   "source": [
    "df['days_exposition'].hist(bins=50, figsize=(15, 5)) # общая  гистограмма\n",
    "plt.xlabel('Срок размещения объявления в днях', fontsize=12)\n",
    "plt.ylabel('Объем')\n",
    "plt.show()"
   ]
  },
  {
   "cell_type": "code",
   "execution_count": 35,
   "metadata": {},
   "outputs": [
    {
     "data": {
      "text/plain": [
       "<AxesSubplot:>"
      ]
     },
     "execution_count": 35,
     "metadata": {},
     "output_type": "execute_result"
    },
    {
     "data": {
      "image/png": "[encoded data removed]",
      "text/plain": [
       "<Figure size 432x288 with 1 Axes>"
      ]
     },
     "metadata": {
      "needs_background": "light"
     },
     "output_type": "display_data"
    }
   ],
   "source": [
    "df['days_exposition'].hist(bins=50, range=(0, 400)) # средневзвешенная гистограмма с ограничением диапазона времени в днях"
   ]
  },
  {
   "cell_type": "code",
   "execution_count": 36,
   "metadata": {},
   "outputs": [
    {
     "data": {
      "text/plain": [
       "<AxesSubplot:>"
      ]
     },
     "execution_count": 36,
     "metadata": {},
     "output_type": "execute_result"
    },
    {
     "data": {
      "image/png": "[encoded data removed]",
      "text/plain": [
       "<Figure size 432x288 with 1 Axes>"
      ]
     },
     "metadata": {
      "needs_background": "light"
     },
     "output_type": "display_data"
    }
   ],
   "source": [
    "df.boxplot(['days_exposition'])"
   ]
  },
  {
   "cell_type": "code",
   "execution_count": 37,
   "metadata": {},
   "outputs": [
    {
     "data": {
      "text/plain": [
       "124.0"
      ]
     },
     "execution_count": 37,
     "metadata": {},
     "output_type": "execute_result"
    }
   ],
   "source": [
    "df['days_exposition'].median()"
   ]
  },
  {
   "cell_type": "markdown",
   "metadata": {},
   "source": [
    "Время продажи квартиры имеет ярковыраженное распределение Пауссона. На основании полученных данных, можем сделать вывод, что **среднее время продажи квартиры 124 дня** (три месяца), если квартира продается больше года - срок дольше обычного. **Выбивающихся значений как таковых не обнаруженно**, таковыми можно считать свыше 1 года."
   ]
  },
  {
   "cell_type": "markdown",
   "metadata": {},
   "source": [
    "Какие факторы больше всего влияют на стоимость квартиры? Изучим, зависит ли цена от площади, числа комнат, удалённости от центра. "
   ]
  },
  {
   "cell_type": "code",
   "execution_count": 38,
   "metadata": {},
   "outputs": [
    {
     "data": {
      "image/png": "[encoded data removed]",
      "text/plain": [
       "<Figure size 1008x1008 with 16 Axes>"
      ]
     },
     "metadata": {
      "needs_background": "light"
     },
     "output_type": "display_data"
    }
   ],
   "source": [
    "main_price_factors = df[['last_price', 'total_s', 'rooms', 'center_dist']]\n",
    "pd.plotting.scatter_matrix(main_price_factors, figsize=(14, 14)) \n",
    "plt.show()"
   ]
  },
  {
   "cell_type": "code",
   "execution_count": 39,
   "metadata": {},
   "outputs": [
    {
     "data": {
      "text/html": [
       "<div>\n",
       "<style scoped>\n",
       "    .dataframe tbody tr th:only-of-type {\n",
       "        vertical-align: middle;\n",
       "    }\n",
       "\n",
       "    .dataframe tbody tr th {\n",
       "        vertical-align: top;\n",
       "    }\n",
       "\n",
       "    .dataframe thead th {\n",
       "        text-align: right;\n",
       "    }\n",
       "</style>\n",
       "<table border=\"1\" class=\"dataframe\">\n",
       "  <thead>\n",
       "    <tr style=\"text-align: right;\">\n",
       "      <th></th>\n",
       "      <th>last_price</th>\n",
       "      <th>total_s</th>\n",
       "      <th>rooms</th>\n",
       "      <th>center_dist</th>\n",
       "    </tr>\n",
       "  </thead>\n",
       "  <tbody>\n",
       "    <tr>\n",
       "      <th>last_price</th>\n",
       "      <td>1.000000</td>\n",
       "      <td>0.653675</td>\n",
       "      <td>0.363343</td>\n",
       "      <td>-0.155236</td>\n",
       "    </tr>\n",
       "    <tr>\n",
       "      <th>total_s</th>\n",
       "      <td>0.653675</td>\n",
       "      <td>1.000000</td>\n",
       "      <td>0.758344</td>\n",
       "      <td>-0.144977</td>\n",
       "    </tr>\n",
       "    <tr>\n",
       "      <th>rooms</th>\n",
       "      <td>0.363343</td>\n",
       "      <td>0.758344</td>\n",
       "      <td>1.000000</td>\n",
       "      <td>-0.096246</td>\n",
       "    </tr>\n",
       "    <tr>\n",
       "      <th>center_dist</th>\n",
       "      <td>-0.155236</td>\n",
       "      <td>-0.144977</td>\n",
       "      <td>-0.096246</td>\n",
       "      <td>1.000000</td>\n",
       "    </tr>\n",
       "  </tbody>\n",
       "</table>\n",
       "</div>"
      ],
      "text/plain": [
       "             last_price   total_s     rooms  center_dist\n",
       "last_price     1.000000  0.653675  0.363343    -0.155236\n",
       "total_s        0.653675  1.000000  0.758344    -0.144977\n",
       "rooms          0.363343  0.758344  1.000000    -0.096246\n",
       "center_dist   -0.155236 -0.144977 -0.096246     1.000000"
      ]
     },
     "execution_count": 39,
     "metadata": {},
     "output_type": "execute_result"
    }
   ],
   "source": [
    "main_price_factors.corr(method ='pearson')"
   ]
  },
  {
   "cell_type": "markdown",
   "metadata": {},
   "source": [
    "1) **Наибольшее влияние на цену оказывает площадь квартиры.**"
   ]
  },
  {
   "cell_type": "markdown",
   "metadata": {},
   "source": [
    "2) Ярковыраженной взаимосвязи между **ценой и количеством комнат** не наблюдается, особенно при значениях свыше 5 комнат и дороже 20 млн рублей за квартиру."
   ]
  },
  {
   "cell_type": "markdown",
   "metadata": {},
   "source": [
    "3) Ярковыраженной взаимосвязи между **ценой и удаленностью квартиры** не наблюдается: некоторая взаимосвзяь может быть обнаружена при  стоимости квартиры до 10 млн рублей и при удалении от центра не далее 15 км."
   ]
  },
  {
   "cell_type": "markdown",
   "metadata": {},
   "source": [
    "Изучим зависимость цены от того, **на каком этаже расположена квартира**: первом, последнем или другом. "
   ]
  },
  {
   "cell_type": "code",
   "execution_count": 40,
   "metadata": {},
   "outputs": [
    {
     "data": {
      "image/png": "[encoded data removed]",
      "text/plain": [
       "<Figure size 432x288 with 1 Axes>"
      ]
     },
     "metadata": {
      "needs_background": "light"
     },
     "output_type": "display_data"
    }
   ],
   "source": [
    "df.groupby('floor_level')['price_meter'].mean().plot(kind='bar', title='Средняя цена за квадратный метр')\n",
    "plt.show()"
   ]
  },
  {
   "cell_type": "markdown",
   "metadata": {},
   "source": [
    "Вывод: Квартиры стоят дороже, если они расположены не на первом и не на последнем этаже."
   ]
  },
  {
   "cell_type": "markdown",
   "metadata": {},
   "source": [
    "Также изучим зависимость от даты размещения: дня недели, месяца и года.\n"
   ]
  },
  {
   "cell_type": "code",
   "execution_count": 41,
   "metadata": {},
   "outputs": [
    {
     "data": {
      "image/png": "[encoded data removed]",
      "text/plain": [
       "<Figure size 432x288 with 1 Axes>"
      ]
     },
     "metadata": {
      "needs_background": "light"
     },
     "output_type": "display_data"
    }
   ],
   "source": [
    "df.groupby('weekday')['last_price'].mean().plot(kind='bar', title='Зависимость от дня недели')\n",
    "plt.show()"
   ]
  },
  {
   "cell_type": "code",
   "execution_count": 42,
   "metadata": {},
   "outputs": [
    {
     "name": "stdout",
     "output_type": "stream",
     "text": [
      "0.0015501452176215438\n"
     ]
    }
   ],
   "source": [
    "print(df['last_price'].corr(df['weekday']))"
   ]
  },
  {
   "cell_type": "markdown",
   "metadata": {},
   "source": [
    "Взаимосвязь отсутсвует"
   ]
  },
  {
   "cell_type": "code",
   "execution_count": 43,
   "metadata": {},
   "outputs": [
    {
     "data": {
      "image/png": "[encoded data removed]",
      "text/plain": [
       "<Figure size 432x288 with 1 Axes>"
      ]
     },
     "metadata": {
      "needs_background": "light"
     },
     "output_type": "display_data"
    }
   ],
   "source": [
    "df.groupby('month')['last_price'].mean().plot(kind='bar', title='Стоимость жилья от времени года')\n",
    "plt.show()"
   ]
  },
  {
   "cell_type": "code",
   "execution_count": 44,
   "metadata": {},
   "outputs": [
    {
     "data": {
      "image/png": "[encoded data removed]",
      "text/plain": [
       "<Figure size 432x288 with 1 Axes>"
      ]
     },
     "metadata": {
      "needs_background": "light"
     },
     "output_type": "display_data"
    }
   ],
   "source": [
    "df.groupby('year')['last_price'].mean().plot(kind='bar', title='Стоимость жилья')\n",
    "plt.show()"
   ]
  },
  {
   "cell_type": "markdown",
   "metadata": {},
   "source": [
    "Выберем 10 населённых пунктов с наибольшим числом объявлений. Посчитаем среднюю цену квадратного метра в этих населённых пунктах. Выделим среди них населённые пункты с самой высокой и низкой стоимостью жилья. Эти данные можно найти по имени в столбце 'locality_name'."
   ]
  },
  {
   "cell_type": "code",
   "execution_count": 45,
   "metadata": {},
   "outputs": [
    {
     "data": {
      "text/html": [
       "<div>\n",
       "<style scoped>\n",
       "    .dataframe tbody tr th:only-of-type {\n",
       "        vertical-align: middle;\n",
       "    }\n",
       "\n",
       "    .dataframe tbody tr th {\n",
       "        vertical-align: top;\n",
       "    }\n",
       "\n",
       "    .dataframe thead th {\n",
       "        text-align: right;\n",
       "    }\n",
       "</style>\n",
       "<table border=\"1\" class=\"dataframe\">\n",
       "  <thead>\n",
       "    <tr style=\"text-align: right;\">\n",
       "      <th></th>\n",
       "      <th>count</th>\n",
       "      <th>mean</th>\n",
       "    </tr>\n",
       "    <tr>\n",
       "      <th>city_name</th>\n",
       "      <th></th>\n",
       "      <th></th>\n",
       "    </tr>\n",
       "  </thead>\n",
       "  <tbody>\n",
       "    <tr>\n",
       "      <th>Санкт-Петербург</th>\n",
       "      <td>15749.0</td>\n",
       "      <td>114837.271827</td>\n",
       "    </tr>\n",
       "    <tr>\n",
       "      <th>посёлок Мурино</th>\n",
       "      <td>522.0</td>\n",
       "      <td>85752.181992</td>\n",
       "    </tr>\n",
       "    <tr>\n",
       "      <th>посёлок Шушары</th>\n",
       "      <td>440.0</td>\n",
       "      <td>78677.379545</td>\n",
       "    </tr>\n",
       "    <tr>\n",
       "      <th>Всеволожск</th>\n",
       "      <td>398.0</td>\n",
       "      <td>68654.474874</td>\n",
       "    </tr>\n",
       "    <tr>\n",
       "      <th>Пушкин</th>\n",
       "      <td>369.0</td>\n",
       "      <td>103125.818428</td>\n",
       "    </tr>\n",
       "    <tr>\n",
       "      <th>Колпино</th>\n",
       "      <td>338.0</td>\n",
       "      <td>75424.571006</td>\n",
       "    </tr>\n",
       "    <tr>\n",
       "      <th>посёлок Парголово</th>\n",
       "      <td>327.0</td>\n",
       "      <td>90175.886850</td>\n",
       "    </tr>\n",
       "    <tr>\n",
       "      <th>Гатчина</th>\n",
       "      <td>307.0</td>\n",
       "      <td>68746.110749</td>\n",
       "    </tr>\n",
       "    <tr>\n",
       "      <th>деревня Кудрово</th>\n",
       "      <td>299.0</td>\n",
       "      <td>92473.588629</td>\n",
       "    </tr>\n",
       "    <tr>\n",
       "      <th>Выборг</th>\n",
       "      <td>237.0</td>\n",
       "      <td>58141.919831</td>\n",
       "    </tr>\n",
       "  </tbody>\n",
       "</table>\n",
       "</div>"
      ],
      "text/plain": [
       "                     count           mean\n",
       "city_name                                \n",
       "Санкт-Петербург    15749.0  114837.271827\n",
       "посёлок Мурино       522.0   85752.181992\n",
       "посёлок Шушары       440.0   78677.379545\n",
       "Всеволожск           398.0   68654.474874\n",
       "Пушкин               369.0  103125.818428\n",
       "Колпино              338.0   75424.571006\n",
       "посёлок Парголово    327.0   90175.886850\n",
       "Гатчина              307.0   68746.110749\n",
       "деревня Кудрово      299.0   92473.588629\n",
       "Выборг               237.0   58141.919831"
      ]
     },
     "execution_count": 45,
     "metadata": {},
     "output_type": "execute_result"
    }
   ],
   "source": [
    "df.pivot_table(index='city_name', values='price_meter', aggfunc=('count', 'mean')).sort_values(by='count', ascending=False).head(10)"
   ]
  },
  {
   "cell_type": "markdown",
   "metadata": {},
   "source": [
    "Больше всего объявлений о продаже в Санкт-Петербурге, средняя цена квадратного метра в нем составляет 114837 руб. Дешевле всего квадратный метр стоит в Выборге: 58141 руб."
   ]
  },
  {
   "cell_type": "markdown",
   "metadata": {},
   "source": [
    "Изучим предложения квартир: Выделим квартиры в Санкт-Петербурге и выясним какая область входит в центр. Создадим столбец с расстоянием до центра в километрах: округлим до целых значений. После этого посчитаем среднюю цену для каждого километра. Построим график: он должен показывать, как цена зависит от удалённости от центра. Определим границу, где график сильно меняется — это и будет центральная зона."
   ]
  },
  {
   "cell_type": "code",
   "execution_count": 46,
   "metadata": {},
   "outputs": [
    {
     "data": {
      "image/png": "[encoded data removed]",
      "text/plain": [
       "<Figure size 1080x432 with 1 Axes>"
      ]
     },
     "metadata": {
      "needs_background": "light"
     },
     "output_type": "display_data"
    }
   ],
   "source": [
    "df['center_dist_km'] = round(df['center_dist'] / 1000)\n",
    "\n",
    "data_spb_pivot = df.pivot_table(index='center_dist_km', values='last_price')\n",
    "data_spb_pivot.plot(style='o-', grid=True, figsize=(15,6), xlim=(0,30))\n",
    "plt.xlabel('Удаленность квартиры от центра Санкт-Петербурга в км.', fontsize=12)\n",
    "plt.show()"
   ]
  },
  {
   "cell_type": "markdown",
   "metadata": {},
   "source": [
    "Выделите сегмент квартир в центре. Проанализируйте эту территорию и изучите следующие параметры: площадь, цена, число комнат, высота потолков. Также выделим факторы, которые влияют на стоимость квартиры (число комнат, этаж, удалённость от центра, дата размещения объявления). Сделайте выводы. Отличаются ли они от общих выводов по всему городу?"
   ]
  },
  {
   "cell_type": "code",
   "execution_count": 47,
   "metadata": {},
   "outputs": [],
   "source": [
    "center = df.query('center_dist < 4000') # центр опредлен в рдиусе 4 км"
   ]
  },
  {
   "cell_type": "code",
   "execution_count": 48,
   "metadata": {},
   "outputs": [
    {
     "data": {
      "text/plain": [
       "<AxesSubplot:>"
      ]
     },
     "execution_count": 48,
     "metadata": {},
     "output_type": "execute_result"
    },
    {
     "data": {
      "image/png": "[encoded data removed]",
      "text/plain": [
       "<Figure size 432x288 with 1 Axes>"
      ]
     },
     "metadata": {
      "needs_background": "light"
     },
     "output_type": "display_data"
    }
   ],
   "source": [
    "center.boxplot('total_s')"
   ]
  },
  {
   "cell_type": "code",
   "execution_count": 49,
   "metadata": {},
   "outputs": [
    {
     "data": {
      "text/plain": [
       "97.37136480686695"
      ]
     },
     "execution_count": 49,
     "metadata": {},
     "output_type": "execute_result"
    }
   ],
   "source": [
    "center.total_s.mean()"
   ]
  },
  {
   "cell_type": "markdown",
   "metadata": {},
   "source": [
    "Средняя площадь квартиры в центре приблизительно равна 97 кв.м., что **на 37 метров больше** общегородского показателя. В основном, площадь не првышает 280 метров, но у некоторых квартир цена превышает и 500 кв.м.,"
   ]
  },
  {
   "cell_type": "markdown",
   "metadata": {},
   "source": [
    "Определим **стоимость квартиры в центре в радиусе 4 км**."
   ]
  },
  {
   "cell_type": "code",
   "execution_count": 50,
   "metadata": {},
   "outputs": [
    {
     "data": {
      "image/png": "[encoded data removed]",
      "text/plain": [
       "<Figure size 720x360 with 1 Axes>"
      ]
     },
     "metadata": {
      "needs_background": "light"
     },
     "output_type": "display_data"
    }
   ],
   "source": [
    "center['last_price'].hist(bins=30, range=(0, 20000000), figsize=(10, 5))\n",
    "plt.xlabel('Цена в млн. руб.', fontsize=12)\n",
    "plt.ylabel('Объем', fontsize=12)\n",
    "plt.show()"
   ]
  },
  {
   "cell_type": "code",
   "execution_count": 51,
   "metadata": {},
   "outputs": [
    {
     "data": {
      "image/png": "[encoded data removed]",
      "text/plain": [
       "<Figure size 432x288 with 1 Axes>"
      ]
     },
     "metadata": {
      "needs_background": "light"
     },
     "output_type": "display_data"
    }
   ],
   "source": [
    "center.boxplot('last_price')\n",
    "plt.show()"
   ]
  },
  {
   "cell_type": "code",
   "execution_count": 52,
   "metadata": {
    "scrolled": true
   },
   "outputs": [
    {
     "name": "stdout",
     "output_type": "stream",
     "text": [
      "Медианное значение цены на квартиру в центре составляет 9.5 млн.руб.\n"
     ]
    }
   ],
   "source": [
    "print(f'Медианное значение цены на квартиру в центре составляет {round(center[\"last_price\"].median()) / 1000000} млн.руб.')"
   ]
  },
  {
   "cell_type": "markdown",
   "metadata": {},
   "source": [
    "Этот показатель **больше общегородского на 5 млн. руб.** В основном, стоимость квартиры в центре не превышает 20 млн. руб., но стоимость некоторых из них достигает и  763 млн.руб."
   ]
  },
  {
   "cell_type": "code",
   "execution_count": 53,
   "metadata": {},
   "outputs": [
    {
     "name": "stdout",
     "output_type": "stream",
     "text": [
      "Среднее значение высоты потолков в центре составляет 3.22 метра, что на 45 см выше, чем в целом по СПБ и ЛО.\n"
     ]
    }
   ],
   "source": [
    "print(f'Среднее значение высоты потолков в центре составляет {round(center.ceiling_h.mean(), 2)} метра, что на 45 см выше, чем в целом по СПБ и ЛО.')"
   ]
  },
  {
   "cell_type": "code",
   "execution_count": 54,
   "metadata": {},
   "outputs": [
    {
     "data": {
      "image/png": "[encoded data removed]",
      "text/plain": [
       "<Figure size 432x288 with 1 Axes>"
      ]
     },
     "metadata": {
      "needs_background": "light"
     },
     "output_type": "display_data"
    }
   ],
   "source": [
    "center.boxplot('ceiling_h')\n",
    "plt.show()"
   ]
  },
  {
   "cell_type": "code",
   "execution_count": 55,
   "metadata": {},
   "outputs": [
    {
     "data": {
      "image/png": "[encoded data removed]",
      "text/plain": [
       "<Figure size 1008x1008 with 16 Axes>"
      ]
     },
     "metadata": {
      "needs_background": "light"
     },
     "output_type": "display_data"
    }
   ],
   "source": [
    "center_price_factors = center[['last_price', 'total_s', 'rooms', 'center_dist']]\n",
    "pd.plotting.scatter_matrix(center_price_factors, figsize=(14, 14))\n",
    "plt.show()"
   ]
  },
  {
   "cell_type": "markdown",
   "metadata": {},
   "source": [
    "Среди всех графиков наблюдается взаимосвязь количества комнат и площадь, но этот аспект нас не интересует. Небольшая взаимосвязь наблюдается при влиянии удаленности квартир на площадь квартир."
   ]
  },
  {
   "cell_type": "code",
   "execution_count": 56,
   "metadata": {},
   "outputs": [
    {
     "name": "stdout",
     "output_type": "stream",
     "text": [
      "0.24449068630986692\n"
     ]
    }
   ],
   "source": [
    "print(center['rooms'].corr(center['last_price']))"
   ]
  },
  {
   "cell_type": "markdown",
   "metadata": {},
   "source": [
    "Небольшое влияние количества комнат на стоимость квартиры имеется."
   ]
  },
  {
   "cell_type": "code",
   "execution_count": 57,
   "metadata": {},
   "outputs": [
    {
     "name": "stdout",
     "output_type": "stream",
     "text": [
      "0.223014571521789\n"
     ]
    }
   ],
   "source": [
    "print(center['floor'].corr(center['last_price']))"
   ]
  },
  {
   "cell_type": "markdown",
   "metadata": {},
   "source": [
    "Наблюдается небольшое влияние уровня этажа на стоимость квартиры."
   ]
  },
  {
   "cell_type": "code",
   "execution_count": 58,
   "metadata": {},
   "outputs": [
    {
     "name": "stdout",
     "output_type": "stream",
     "text": [
      "-0.09404269320790161\n"
     ]
    }
   ],
   "source": [
    "print(center['last_price'].corr(center['center_dist']))"
   ]
  },
  {
   "cell_type": "markdown",
   "metadata": {},
   "source": [
    "Удаленность квартиры в пределах центра не влияет на цену."
   ]
  },
  {
   "cell_type": "code",
   "execution_count": 59,
   "metadata": {},
   "outputs": [
    {
     "name": "stdout",
     "output_type": "stream",
     "text": [
      "-0.011388950288653117\n"
     ]
    }
   ],
   "source": [
    "print(center['month'].corr(center['last_price']))"
   ]
  },
  {
   "cell_type": "markdown",
   "metadata": {},
   "source": [
    "Время размещения объявления не влияет на цену."
   ]
  },
  {
   "cell_type": "markdown",
   "metadata": {},
   "source": [
    "### Шаг 5. Общий вывод"
   ]
  },
  {
   "cell_type": "markdown",
   "metadata": {},
   "source": [
    "На наш взгляд, наибольшее влияние на цену квартиры оказывает площадь квартиры, приближенность к центру, в меньшей степени влияют на стоимость квартиры количество комнат."
   ]
  }
 ],
 "metadata": {
  "kernelspec": {
   "display_name": "Python 3",
   "language": "python",
   "name": "python3"
  },
  "language_info": {
   "codemirror_mode": {
    "name": "ipython",
    "version": 3
   },
   "file_extension": ".py",
   "mimetype": "text/x-python",
   "name": "python",
   "nbconvert_exporter": "python",
   "pygments_lexer": "ipython3",
   "version": "3.8.5"
  },
  "toc": {
   "base_numbering": 1,
   "nav_menu": {},
   "number_sections": true,
   "sideBar": true,
   "skip_h1_title": true,
   "title_cell": "Table of Contents",
   "title_sidebar": "Contents",
   "toc_cell": false,
   "toc_position": {},
   "toc_section_display": true,
   "toc_window_display": false
  }
 },
 "nbformat": 4,
 "nbformat_minor": 2
}
